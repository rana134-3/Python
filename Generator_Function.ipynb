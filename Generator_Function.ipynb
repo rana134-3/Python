{
 "cells": [
  {
   "cell_type": "code",
   "execution_count": 58,
   "id": "d102f86d-f7de-49bb-9810-da849f39dc48",
   "metadata": {},
   "outputs": [
    {
     "name": "stdout",
     "output_type": "stream",
     "text": [
      "0\n",
      "1\n",
      "1\n",
      "2\n",
      "3\n",
      "5\n",
      "8\n",
      "13\n",
      "21\n",
      "34\n"
     ]
    }
   ],
   "source": [
    "def fib_series(n):\n",
    "    \"\"\"Print Fibonacci Series\"\"\"\n",
    "    a,b=0,1\n",
    "    for i in range(n):\n",
    "        yield a\n",
    "        a,b = b,a+b\n",
    "a= fib_series(10)\n",
    "for i in a:\n",
    "    print(i)"
   ]
  },
  {
   "cell_type": "code",
   "execution_count": 59,
   "id": "b4d0facb-d3c6-4736-9044-6829fc18c9c0",
   "metadata": {},
   "outputs": [
    {
     "data": {
      "text/plain": [
       "<generator object fib_series at 0x7fb8c84090e0>"
      ]
     },
     "execution_count": 59,
     "metadata": {},
     "output_type": "execute_result"
    }
   ],
   "source": [
    "fib_series(10)"
   ]
  },
  {
   "cell_type": "code",
   "execution_count": 60,
   "id": "5672628d-fef0-474a-9e2a-e7f862a4866e",
   "metadata": {},
   "outputs": [
    {
     "name": "stdout",
     "output_type": "stream",
     "text": [
      "0\n",
      "1\n",
      "1\n",
      "2\n",
      "3\n",
      "5\n",
      "8\n",
      "13\n",
      "21\n",
      "34\n"
     ]
    }
   ],
   "source": [
    "def fib_series1():\n",
    "    \"\"\"Print Fibonacci Series\"\"\"\n",
    "    a,b=0,1\n",
    "    while True:\n",
    "        yield a\n",
    "        a,b = b,a+b\n",
    "        \n",
    "fib = fib_series1()\n",
    "for i in range(10):\n",
    "    print(next(fib))"
   ]
  },
  {
   "cell_type": "code",
   "execution_count": 61,
   "id": "636cef68-9205-48f8-9a10-c523346da65d",
   "metadata": {},
   "outputs": [
    {
     "name": "stdout",
     "output_type": "stream",
     "text": [
      "1\n",
      "2\n",
      "3\n",
      "4\n",
      "5\n",
      "6\n",
      "7\n",
      "8\n",
      "9\n"
     ]
    }
   ],
   "source": [
    "def count_test(n):\n",
    "    count = 1\n",
    "    while count<n:\n",
    "        yield count\n",
    "        count = count+1\n",
    "        \n",
    "c= count_test(10)\n",
    "for i in c:\n",
    "    print(i)"
   ]
  },
  {
   "cell_type": "code",
   "execution_count": 62,
   "id": "2681223a-e9f2-44db-8ba4-d4ba86271170",
   "metadata": {},
   "outputs": [],
   "source": [
    "def test5(l):\n",
    "    '''Extract num data from the list and also from the list/tuple/set which are present inside main list '''\n",
    "    l1=[]\n",
    "    for i in l:\n",
    "        if type(i) == list or type(i) == tuple or type(i) == set:\n",
    "            for j in i:\n",
    "                if type(j) == int or type(j) == float:\n",
    "                    l1.append(j)\n",
    "        else:\n",
    "            if type(i) == int or type(i) == float:\n",
    "                l1.append(i)\n",
    "    yield l1\n"
   ]
  },
  {
   "cell_type": "code",
   "execution_count": 63,
   "id": "ae62b82e-4085-44f8-b1f6-66469945ec05",
   "metadata": {},
   "outputs": [
    {
     "name": "stdout",
     "output_type": "stream",
     "text": [
      "[3, 850.54, 1, 23, 4, 8.24, 74, 0, 66]\n"
     ]
    }
   ],
   "source": [
    "    \n",
    "c= test5((3,\"Hello\", 850.54,(1,23,4),['Rage', 8.24,74],\"World\", {0, 66, 8+5j, True}))\n",
    "for i in c:\n",
    "    print(i)"
   ]
  },
  {
   "cell_type": "code",
   "execution_count": 64,
   "id": "ba3050fb-f823-4306-a4d2-8685a9957957",
   "metadata": {},
   "outputs": [
    {
     "data": {
      "text/plain": [
       "generator"
      ]
     },
     "execution_count": 64,
     "metadata": {},
     "output_type": "execute_result"
    }
   ],
   "source": [
    "type(c)"
   ]
  },
  {
   "cell_type": "code",
   "execution_count": null,
   "id": "e2b15c7c-3271-4a2c-a0e4-462b1dc41e31",
   "metadata": {},
   "outputs": [],
   "source": []
  }
 ],
 "metadata": {
  "kernelspec": {
   "display_name": "Python 3 (ipykernel)",
   "language": "python",
   "name": "python3"
  },
  "language_info": {
   "codemirror_mode": {
    "name": "ipython",
    "version": 3
   },
   "file_extension": ".py",
   "mimetype": "text/x-python",
   "name": "python",
   "nbconvert_exporter": "python",
   "pygments_lexer": "ipython3",
   "version": "3.10.8"
  }
 },
 "nbformat": 4,
 "nbformat_minor": 5
}
