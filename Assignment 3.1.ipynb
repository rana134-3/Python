{
 "cells": [
  {
   "cell_type": "code",
   "execution_count": 16,
   "id": "c1787bce-a138-43a9-9299-a562a3e47e37",
   "metadata": {},
   "outputs": [
    {
     "name": "stdout",
     "output_type": "stream",
     "text": [
      "[1, 3, 5, 7, 9, 11, 13, 15, 17, 19, 21, 23, 25]\n"
     ]
    }
   ],
   "source": [
    "'''Q1. Which keyword is used to create a function? Create a function to return a list of odd numbers in the\n",
    "range of 1 to 25.'''\n",
    "\n",
    "\n",
    "#def keyword is used for creating a function.\n",
    "def odd_num(l1,l2):\n",
    "    \"\"\"Print odd numbers between the given range\"\"\"\n",
    "    odd = []\n",
    "    for i in range(l1,l2):\n",
    "        if i%2 !=0:\n",
    "            odd.append(i)\n",
    "    yield odd\n",
    "odd_list = odd_num(1,26)\n",
    "for i in odd_list:\n",
    "    print(i)"
   ]
  },
  {
   "cell_type": "code",
   "execution_count": 29,
   "id": "f9b487f9-c5ce-48bb-9dd8-f7ad9b7b3963",
   "metadata": {},
   "outputs": [
    {
     "name": "stdout",
     "output_type": "stream",
     "text": [
      "['Hello', 'rage', 'python']\n"
     ]
    },
    {
     "data": {
      "text/plain": [
       "{'Name': 'Ayush', 'City': 'Meerut', 'Course': 'BCA'}"
      ]
     },
     "execution_count": 29,
     "metadata": {},
     "output_type": "execute_result"
    }
   ],
   "source": [
    "'''Q2. Why *args and **kwargs is used in some functions? Create a function each for *args and **kwargs\n",
    "to demonstrate their use.'''\n",
    "\n",
    "\n",
    "\"\"\"*args --> It used when we don't know in advance how many arguments will be passed to a function.\n",
    "It is a non-keyworded variable argument.\"\"\"\n",
    "\n",
    "#Function for *args\n",
    "def args(*args):\n",
    "    '''Return string data type'''\n",
    "    str1=[]\n",
    "    for i in args:\n",
    "        if isinstance(i, str):\n",
    "            str1.append(i)\n",
    "    return str1\n",
    "\n",
    "a= args(\"Hello\", 52, 3+5j, True, \"rage\", \"python\", 5.36, 74)\n",
    "print(a)\n",
    "\n",
    "\n",
    "\"\"\"**kwargs --> It used when we don't know in advance how many arguments will be passed to a function.\n",
    "It is a Keyworded variable argument. \"\"\"\n",
    "\n",
    "#Function for **kwargs\n",
    "def kwargs(**kwargs):\n",
    "    return (kwargs)\n",
    "\n",
    "kwargs(Name = \"Ayush\" , City = 'Meerut', Course = 'BCA')"
   ]
  },
  {
   "cell_type": "code",
   "execution_count": 44,
   "id": "f01d422e-aa72-4ee9-a285-f74a7936a113",
   "metadata": {},
   "outputs": [
    {
     "name": "stdout",
     "output_type": "stream",
     "text": [
      "2\n",
      "4\n",
      "6\n",
      "8\n",
      "10\n"
     ]
    }
   ],
   "source": [
    "\"\"\"Q3. What is an iterator in python? Name the method used to initialise the iterator object and the method\n",
    "used for iteration. Use these methods to print the first five elements of the given list [2, 4, 6, 8, 10, 12, 14,\n",
    "16, 18, 20].\"\"\"\n",
    "\n",
    "#Iterators --> Data/object in which we can iterate over it and get the value one by one using next() function\n",
    "#For iternation we use next() method\n",
    "#For initialise the iterator object we use iter() method\n",
    "\n",
    "l=[2,4,6,8,10,12,14,16,18,20]\n",
    "l1= iter(l)\n",
    "def i(l1):\n",
    "    for i in l1:\n",
    "        yield i\n",
    "a= i(l)\n",
    "for i in range(5):\n",
    "    print(next(l1))\n"
   ]
  },
  {
   "cell_type": "code",
   "execution_count": 45,
   "id": "675ccb14-1ffc-4f6d-aa66-c476003d9e98",
   "metadata": {},
   "outputs": [
    {
     "name": "stdout",
     "output_type": "stream",
     "text": [
      "1\n",
      "2\n",
      "4\n",
      "8\n",
      "16\n",
      "32\n",
      "64\n",
      "128\n",
      "256\n",
      "512\n"
     ]
    }
   ],
   "source": [
    "\"\"\"Q4. What is a generator function in python? Why yield keyword is used? Give an example of a generator\n",
    "function.\"\"\"\n",
    "\n",
    "#Generator function are those function which generate a sequence of value to the given range\n",
    "'''Yield keyword allows you to create functions that can generate a sequence of values one at a time, as needed. \n",
    "Instead of returning all the values at once like a regular function'''\n",
    "\n",
    "def two_pow(n):\n",
    "    '''Print power of 2 till given range'''\n",
    "    power = 0\n",
    "    for i in range(n):\n",
    "        yield 2**power\n",
    "        power += 1\n",
    "        \n",
    "pow_of_two = two_pow(10)\n",
    "for i in pow_of_two:\n",
    "    print(i)"
   ]
  },
  {
   "cell_type": "code",
   "execution_count": 1,
   "id": "1ea71b55-ed2c-46b7-b4ab-e0038dcd0f30",
   "metadata": {},
   "outputs": [
    {
     "name": "stdout",
     "output_type": "stream",
     "text": [
      "2\n",
      "3\n",
      "5\n",
      "7\n",
      "11\n",
      "13\n",
      "17\n",
      "19\n",
      "23\n",
      "29\n",
      "31\n",
      "37\n",
      "41\n",
      "43\n",
      "47\n",
      "53\n",
      "59\n",
      "61\n",
      "67\n",
      "71\n"
     ]
    }
   ],
   "source": [
    "\"\"\"Q5. Create a generator function for prime numbers less than 1000. Use the next() method to print the\n",
    "first 20 prime numbers.\"\"\"\n",
    "\n",
    "def prime_generator():\n",
    "    #Generate prime number\n",
    "    primes = []\n",
    "    num = 2\n",
    "    while num < 1000:\n",
    "        is_prime = True\n",
    "        for i in primes:\n",
    "            if i > int(num ** 0.5):\n",
    "                break\n",
    "            if num % i == 0:\n",
    "                is_prime = False\n",
    "                break\n",
    "        if is_prime:\n",
    "            primes.append(num)\n",
    "            yield num\n",
    "        num += 1\n",
    "\n",
    "generator = prime_generator()\n",
    "for _ in range(20):\n",
    "    print(next(generator))\n"
   ]
  },
  {
   "cell_type": "code",
   "execution_count": 3,
   "id": "697027de-efe0-4256-aaf0-7a2e564b2a97",
   "metadata": {},
   "outputs": [
    {
     "name": "stdout",
     "output_type": "stream",
     "text": [
      "0\n",
      "1\n",
      "1\n",
      "2\n",
      "3\n",
      "5\n",
      "8\n",
      "13\n",
      "21\n",
      "34\n"
     ]
    }
   ],
   "source": [
    "#Q6. Write a python program to print the first 10 Fibonacci numbers using a while loop.\n",
    "\n",
    "def fib_num(n):\n",
    "    a,b= 0,1\n",
    "    i = 0\n",
    "    while i < n:\n",
    "        yield a\n",
    "        a, b = b, a+b\n",
    "        i = i+1\n",
    "        \n",
    "fib_num1 = fib_num(10)\n",
    "for i in fib_num1:\n",
    "    print(i)"
   ]
  },
  {
   "cell_type": "code",
   "execution_count": null,
   "id": "18418ccd-5694-4272-8560-5319df85deec",
   "metadata": {},
   "outputs": [
    {
     "name": "stdout",
     "output_type": "stream",
     "text": [
      "['p', 'w', 's', 'k', 'i', 'l', 'l', 's']\n"
     ]
    }
   ],
   "source": [
    "\"\"\"Q7. Write a List Comprehension to iterate through the given string: ‘pwskills’.\n",
    "Expected output: ['p', 'w', 's', 'k', 'i', 'l', 'l', 's']\"\"\"\n",
    "\n",
    "str1 = 'pwskills'\n",
    "str2 = [char for char in str1]\n",
    "print(str2)"
   ]
  },
  {
   "cell_type": "code",
   "execution_count": 6,
   "id": "040bc7ac-39b7-4332-8492-aa790918897b",
   "metadata": {},
   "outputs": [
    {
     "name": "stdin",
     "output_type": "stream",
     "text": [
      "Enter a num: 2022\n"
     ]
    },
    {
     "name": "stdout",
     "output_type": "stream",
     "text": [
      "2022 is not a palindrome number\n"
     ]
    }
   ],
   "source": [
    "#Q8. Write a python program to check whether a given number is Palindrome or not using a while loop.\n",
    "\n",
    "def palindrome_num(num):\n",
    "    # Check whether a given number is Palindrome or not      \n",
    "    original = num\n",
    "    reverse = 0\n",
    "    while num > 0:\n",
    "        d = num % 10\n",
    "        reverse = reverse * 10 + d\n",
    "        num = num // 10\n",
    "    if original == reverse:\n",
    "        return True\n",
    "    else:\n",
    "        return False\n",
    "    \n",
    "   \n",
    "n = int(input(\"Enter a num:\"))\n",
    "if palindrome_num(n):\n",
    "    print(n, \"is a palindrome number\")\n",
    "else:\n",
    "    print(n, \"is not a palindrome number\")\n"
   ]
  },
  {
   "cell_type": "code",
   "execution_count": 11,
   "id": "9d5e8a0c-a3c7-4ee1-8db1-9006d489227b",
   "metadata": {},
   "outputs": [
    {
     "name": "stdout",
     "output_type": "stream",
     "text": [
      "[1, 3, 5, 7, 9, 11, 13, 15, 17, 19, 21, 23, 25, 27, 29, 31, 33, 35, 37, 39, 41, 43, 45, 47, 49, 51, 53, 55, 57, 59, 61, 63, 65, 67, 69, 71, 73, 75, 77, 79, 81, 83, 85, 87, 89, 91, 93, 95, 97, 99]\n"
     ]
    }
   ],
   "source": [
    "#Q9. Write a code to print odd numbers from 1 to 100 using list comprehension.\n",
    "\n",
    "\n",
    "odd_num=[num for num in range(1,101) if num % 2 !=0]\n",
    "print(odd_num)"
   ]
  },
  {
   "cell_type": "code",
   "execution_count": null,
   "id": "e4746400-ca3e-47ae-8873-21991663eafb",
   "metadata": {},
   "outputs": [],
   "source": []
  }
 ],
 "metadata": {
  "kernelspec": {
   "display_name": "Python 3 (ipykernel)",
   "language": "python",
   "name": "python3"
  },
  "language_info": {
   "codemirror_mode": {
    "name": "ipython",
    "version": 3
   },
   "file_extension": ".py",
   "mimetype": "text/x-python",
   "name": "python",
   "nbconvert_exporter": "python",
   "pygments_lexer": "ipython3",
   "version": "3.10.8"
  }
 },
 "nbformat": 4,
 "nbformat_minor": 5
}
