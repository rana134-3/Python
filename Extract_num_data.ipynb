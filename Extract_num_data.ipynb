{
 "cells": [
  {
   "cell_type": "code",
   "execution_count": 1,
   "id": "c0d3231a-07cf-40cc-a79c-3983f1deb8b0",
   "metadata": {},
   "outputs": [],
   "source": [
    "def test5(l):\n",
    "    '''Extract num data from the list and also from the list/tuple/set which are present inside main list '''\n",
    "    l1=[]\n",
    "    for i in l:\n",
    "        if type(i) == list or type(i) == tuple or type(i) == set:\n",
    "            for j in i:\n",
    "                if type(j) == int or type(j) == float:\n",
    "                    l1.append(j)\n",
    "        else:\n",
    "            if type(i) == int or type(i) == float:\n",
    "                l1.append(i)\n",
    "    return l1      "
   ]
  },
  {
   "cell_type": "code",
   "execution_count": 2,
   "id": "5bf3ac2c-6771-4346-8475-b9f205256e87",
   "metadata": {},
   "outputs": [
    {
     "data": {
      "text/plain": [
       "[3, 850.54, 1, 23, 4, 8.24, 74, 0, 66]"
      ]
     },
     "execution_count": 2,
     "metadata": {},
     "output_type": "execute_result"
    }
   ],
   "source": [
    "test5((3,\"Hello\", 850.54,(1,23,4),['Rage', 8.24,74],\"World\", {0, 66, 8+5j, True}))"
   ]
  }
 ],
 "metadata": {
  "kernelspec": {
   "display_name": "Python 3 (ipykernel)",
   "language": "python",
   "name": "python3"
  },
  "language_info": {
   "codemirror_mode": {
    "name": "ipython",
    "version": 3
   },
   "file_extension": ".py",
   "mimetype": "text/x-python",
   "name": "python",
   "nbconvert_exporter": "python",
   "pygments_lexer": "ipython3",
   "version": "3.10.8"
  }
 },
 "nbformat": 4,
 "nbformat_minor": 5
}
