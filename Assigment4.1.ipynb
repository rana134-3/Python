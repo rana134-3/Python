{
 "cells": [
  {
   "cell_type": "code",
   "execution_count": 5,
   "id": "224e681d-9e64-465b-b334-0b2db3396f2c",
   "metadata": {},
   "outputs": [
    {
     "name": "stdout",
     "output_type": "stream",
     "text": [
      "Name  of Vehicle is: XUV500\n",
      "Max speed of Vehicle is: 120\n",
      "Average speed of Vehicle is: 100\n"
     ]
    }
   ],
   "source": [
    "\"\"\"Q1, Create a vehicle class with an init method having instance variables as name_of_vehicle, max_speed\n",
    "and average_of_vehicle.\"\"\"\n",
    "\n",
    "\n",
    "class Vehicle:\n",
    "    def __init__(self, name_of_vehicle, max_speed, average_of_vehicle):\n",
    "        self.name_of_vehicle = name_of_vehicle\n",
    "        self.max_speed = max_speed\n",
    "        self.aveage_of_vehicle = average_of_vehicle\n",
    "        \n",
    "        \n",
    "obj = Vehicle(\"XUV500\", 120, 100)\n",
    "print(\"Name  of Vehicle is:\", obj.name_of_vehicle)\n",
    "print(\"Max speed of Vehicle is:\", obj.max_speed)\n",
    "print(\"Average speed of Vehicle is:\", obj.aveage_of_vehicle)"
   ]
  },
  {
   "cell_type": "code",
   "execution_count": 34,
   "id": "8a21a63a-9e0d-4d8d-873b-bf165e59ccf6",
   "metadata": {},
   "outputs": [],
   "source": [
    "\"\"\"Q2. Create a child class car from the vehicle class created in Que 1, which will inherit the vehicle class.\n",
    "Create a method named seating_capacity which takes capacity as an argument and returns the name of\n",
    "the vehicle and its seating capacity.\"\"\"\n",
    "\n",
    "class Vehicle:\n",
    "    def __init__(self, name_of_vehicle, max_speed, average_of_vehicle):\n",
    "        self.name_of_vehicle = name_of_vehicle\n",
    "        self.max_speed = max_speed\n",
    "        self.aveage_of_vehicle = average_of_vehicle\n",
    "        \n",
    "class Car(Vehicle):\n",
    "    def seating_capacity(self, capacity):\n",
    "        \"\"\"Enter seating capacity of car\"\"\"\n",
    "        print(self.name_of_vehicle, \"have the seating capacity of\",capacity)\n",
    "    \n",
    "car_obj = Car(\"Mahindra XUV500\", 160, 100,)"
   ]
  },
  {
   "cell_type": "code",
   "execution_count": 30,
   "id": "7d6aef19-563b-4dec-907e-1cffbba3d300",
   "metadata": {},
   "outputs": [
    {
     "name": "stdout",
     "output_type": "stream",
     "text": [
      "Mahindra XUV500 have the seating capacity of 5\n"
     ]
    }
   ],
   "source": [
    "car_obj.seating_capacity(5)"
   ]
  },
  {
   "cell_type": "code",
   "execution_count": 37,
   "id": "3fc32748-21fc-4dab-8daa-2e34d2ef1ccf",
   "metadata": {},
   "outputs": [],
   "source": [
    "\"\"\"Q3. What is multiple inheritance? Write a python code to demonstrate multiple inheritance.\"\"\"\n",
    "\n",
    "'''Multiple Inheritance is a feature in allows a child_class to inherit attributes and methods \n",
    "from more than one parent_class.'''\n",
    "\n",
    "#Example of Multiple Inheritance\n",
    "\n",
    "class Rectangle:\n",
    "    def __init__(self, a,b,color):\n",
    "        \"\"\"Enter length, width and color\"\"\"\n",
    "        self.a = a\n",
    "        self.b = b\n",
    "        self.color = color\n",
    "    def area(self):\n",
    "        \"\"\"Print area of Rectangle\"\"\"\n",
    "        area = self.a * self.b\n",
    "        print(\"Area of rectangle is\", area)\n",
    "    def perimeter(self):\n",
    "        \"\"\"Print perimeter of Rectangle\"\"\"\n",
    "        perimeter = 2*(self.a+self.b)\n",
    "        print(\"Perimeter of rectangle is\", perimeter)\n",
    "    \n",
    "class Color:\n",
    "    def set_color(self):\n",
    "        \"\"\"Set color of Rectangle\"\"\"\n",
    "        print(\"Color of rectangle set to\", self.color)\n",
    "    \n",
    "class ColoredRectangle (Color, Rectangle):\n",
    "    pass\n",
    "\n",
    "obj = ColoredRectangle (5,6,\"Red\")"
   ]
  },
  {
   "cell_type": "code",
   "execution_count": 23,
   "id": "82d44709-4975-43bc-a1de-af595b8313d4",
   "metadata": {},
   "outputs": [
    {
     "name": "stdout",
     "output_type": "stream",
     "text": [
      "Color of rectangle set to Red\n"
     ]
    }
   ],
   "source": [
    "obj.set_color()"
   ]
  },
  {
   "cell_type": "code",
   "execution_count": 24,
   "id": "848e7586-d5a2-4f32-85b2-a84634b83243",
   "metadata": {},
   "outputs": [
    {
     "name": "stdout",
     "output_type": "stream",
     "text": [
      "Area of rectangle is 30\n"
     ]
    }
   ],
   "source": [
    "obj.area()"
   ]
  },
  {
   "cell_type": "code",
   "execution_count": 25,
   "id": "36996794-5fad-4513-8aea-3bdfb76fd554",
   "metadata": {},
   "outputs": [
    {
     "name": "stdout",
     "output_type": "stream",
     "text": [
      "Perimeter of rectangle is 22\n"
     ]
    }
   ],
   "source": [
    "obj.perimeter()"
   ]
  },
  {
   "cell_type": "code",
   "execution_count": 50,
   "id": "41158332-54eb-4b98-baf4-fb81363e19cf",
   "metadata": {},
   "outputs": [],
   "source": [
    "\"\"\"Q4. What are getter and setter in python? Create a class and create a getter and a setter method in this\n",
    "class.\"\"\"\n",
    "\n",
    "'''Getter: A getter method,is used to retrieve the value of a private or protected attribute. \n",
    "It allows you to access the value of an attribute from outside the class. \n",
    "By using a getter, you can enforce encapsulation and provide controlled access to the attribute.\n",
    "\n",
    "Setter: A setter method, is used to modify the value of a private or protected attribute. \n",
    "It allows you to set a new value for an attribute from outside the class. \n",
    "By using a setter, you can enforce encapsulation and validate or control the modification of the attribute.'''\n",
    "\n",
    "class BankAccount:\n",
    "    \n",
    "    def __init__(self, account_number, balance, pin):\n",
    "        \"\"\"Enter account number, balance, pin of your bank account\"\"\"\n",
    "        self.__account_number = account_number\n",
    "        self.__balance = balance\n",
    "        self.__pin = pin\n",
    "        \n",
    "    def deposit(self, amount):\n",
    "        \"\"\"Enter amount to be deposited in the Account\"\"\"\n",
    "        self.__balance += amount\n",
    "        \n",
    "    def withdraw(self, amount, pin):\n",
    "        \"\"\"Enter amount to be withdraw from the Account and the pin of your Account\"\"\"\n",
    "        if self.__pin == pin and self.__balance >= amount:\n",
    "            self.__balance -= amount\n",
    "            return \"Withdrawal Successful\"\n",
    "        elif self.__pin == pin and self.__balance < amount:\n",
    "            return \"Insufficient Balance\"\n",
    "        else:\n",
    "            return \"Incorrect Pin\"\n",
    "        \n",
    "    def get_balance(self, pin):\n",
    "        \"\"\"Enter your pin and see the available balance in the Account\"\"\"\n",
    "        if self.__pin == pin:\n",
    "            return self.__balance\n",
    "        else:\n",
    "            return \"Incorrect Pin\"\n",
    "\n",
    "ayush = BankAccount(192583746, 10000, 1590)"
   ]
  },
  {
   "cell_type": "code",
   "execution_count": 51,
   "id": "354597a1-54ed-43ab-acdf-5b84ff10f346",
   "metadata": {},
   "outputs": [
    {
     "data": {
      "text/plain": [
       "'Incorrect Pin'"
      ]
     },
     "execution_count": 51,
     "metadata": {},
     "output_type": "execute_result"
    }
   ],
   "source": [
    "ayush.get_balance(1509)"
   ]
  },
  {
   "cell_type": "code",
   "execution_count": 52,
   "id": "86b76a24-d61d-4795-95c6-a014288ef5d9",
   "metadata": {},
   "outputs": [],
   "source": [
    "ayush.deposit(5000)"
   ]
  },
  {
   "cell_type": "code",
   "execution_count": 53,
   "id": "ca01a055-560c-430a-b742-a884b5489e8e",
   "metadata": {},
   "outputs": [
    {
     "data": {
      "text/plain": [
       "15000"
      ]
     },
     "execution_count": 53,
     "metadata": {},
     "output_type": "execute_result"
    }
   ],
   "source": [
    "ayush.get_balance(1590)"
   ]
  },
  {
   "cell_type": "code",
   "execution_count": 54,
   "id": "f4072952-141e-4af8-b788-ee645a54da4f",
   "metadata": {},
   "outputs": [
    {
     "data": {
      "text/plain": [
       "'Withdrawal Successful'"
      ]
     },
     "execution_count": 54,
     "metadata": {},
     "output_type": "execute_result"
    }
   ],
   "source": [
    "ayush.withdraw(6000, 1590)"
   ]
  },
  {
   "cell_type": "code",
   "execution_count": 55,
   "id": "fa116482-2735-46c4-af12-f3afccf4ab6f",
   "metadata": {},
   "outputs": [
    {
     "data": {
      "text/plain": [
       "9000"
      ]
     },
     "execution_count": 55,
     "metadata": {},
     "output_type": "execute_result"
    }
   ],
   "source": [
    "ayush.get_balance(1590)"
   ]
  },
  {
   "cell_type": "code",
   "execution_count": 56,
   "id": "0cb38759-480a-41f4-a02d-2734507e4302",
   "metadata": {},
   "outputs": [
    {
     "data": {
      "text/plain": [
       "'Insufficient Balance'"
      ]
     },
     "execution_count": 56,
     "metadata": {},
     "output_type": "execute_result"
    }
   ],
   "source": [
    "ayush.withdraw(10000,1590)"
   ]
  },
  {
   "cell_type": "code",
   "execution_count": 57,
   "id": "e1a1a329-7197-41b8-9dc1-0b18113617d0",
   "metadata": {},
   "outputs": [
    {
     "data": {
      "text/plain": [
       "'Incorrect Pin'"
      ]
     },
     "execution_count": 57,
     "metadata": {},
     "output_type": "execute_result"
    }
   ],
   "source": [
    "ayush.withdraw(5000, 1509)"
   ]
  },
  {
   "cell_type": "code",
   "execution_count": 58,
   "id": "42ccd977-5b2a-4df0-b867-0e9ddb99f370",
   "metadata": {},
   "outputs": [
    {
     "data": {
      "text/plain": [
       "9000"
      ]
     },
     "execution_count": 58,
     "metadata": {},
     "output_type": "execute_result"
    }
   ],
   "source": [
    "ayush.get_balance(1590)"
   ]
  },
  {
   "cell_type": "code",
   "execution_count": 64,
   "id": "25914394-06f8-4ecd-b685-5104bdb45722",
   "metadata": {},
   "outputs": [],
   "source": [
    "\"\"\"Q5.What is method overriding in python? Write a python code to demonstrate method overriding.\"\"\"\n",
    "\n",
    "\n",
    "'''When a method in a subclass has the same name, same parameters and same return type \n",
    "as a method in its super-class, then the method is said to override'''\n",
    "\n",
    "\n",
    "class Animal:\n",
    "    def sound(self):\n",
    "        return \"Animal is make sound\"\n",
    "    \n",
    "class Dog(Animal):\n",
    "    def sound(self):\n",
    "        return \"Dog barks\"\n",
    "    \n",
    "class Cat(Animal):\n",
    "    def sound(self):\n",
    "        return \"Cat meows\"\n",
    "    \n",
    "obj_animal = Animal()\n",
    "obj_Dog = Dog()\n",
    "obj_Cat = Cat()"
   ]
  },
  {
   "cell_type": "code",
   "execution_count": 60,
   "id": "f74463ae-836a-4733-a68c-e8323dccccaf",
   "metadata": {},
   "outputs": [
    {
     "data": {
      "text/plain": [
       "'Animal is make sound'"
      ]
     },
     "execution_count": 60,
     "metadata": {},
     "output_type": "execute_result"
    }
   ],
   "source": [
    "obj_animal.sound()"
   ]
  },
  {
   "cell_type": "code",
   "execution_count": 62,
   "id": "382243ff-53dc-46ad-a2bc-cdb7893e90ac",
   "metadata": {},
   "outputs": [
    {
     "data": {
      "text/plain": [
       "'Dog barks'"
      ]
     },
     "execution_count": 62,
     "metadata": {},
     "output_type": "execute_result"
    }
   ],
   "source": [
    "obj_Dog.sound()"
   ]
  },
  {
   "cell_type": "code",
   "execution_count": 63,
   "id": "c0626ea3-80c9-4298-89c9-736c3280b727",
   "metadata": {},
   "outputs": [
    {
     "data": {
      "text/plain": [
       "'Cat meows'"
      ]
     },
     "execution_count": 63,
     "metadata": {},
     "output_type": "execute_result"
    }
   ],
   "source": [
    "obj_Cat.sound()"
   ]
  },
  {
   "cell_type": "code",
   "execution_count": null,
   "id": "53bf3693-0fbd-4ec8-af9f-6768d8efadf0",
   "metadata": {},
   "outputs": [],
   "source": []
  }
 ],
 "metadata": {
  "kernelspec": {
   "display_name": "Python 3 (ipykernel)",
   "language": "python",
   "name": "python3"
  },
  "language_info": {
   "codemirror_mode": {
    "name": "ipython",
    "version": 3
   },
   "file_extension": ".py",
   "mimetype": "text/x-python",
   "name": "python",
   "nbconvert_exporter": "python",
   "pygments_lexer": "ipython3",
   "version": "3.10.8"
  }
 },
 "nbformat": 4,
 "nbformat_minor": 5
}
