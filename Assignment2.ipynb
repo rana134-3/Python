{
 "cells": [
  {
   "cell_type": "code",
   "execution_count": null,
   "id": "730b67ea-7555-46ed-a9dd-0a3bae69f8f1",
   "metadata": {},
   "outputs": [],
   "source": [
    "#Q1. How do you comment code in Python? What are the different types of comments?\n",
    "\n",
    "\"\"\" In Python, we can comment a single line using the hash symbol (#).\n",
    "    We can also comment multiple lines using triple quotes. \"\"\"\n",
    "\n",
    "#Example of single line comment:\n",
    "    #This is a single line comment.\n",
    "\n",
    "#Example of multiple line comment:\n",
    "    \"\"\" This is a multiple line comment.\n",
    "    This is the second line of the comment.\n",
    "    This is the third line of the comment. \"\"\""
   ]
  },
  {
   "cell_type": "code",
   "execution_count": 66,
   "id": "530a4a90-2be2-4e74-90bd-60a43b0c7126",
   "metadata": {},
   "outputs": [
    {
     "name": "stdout",
     "output_type": "stream",
     "text": [
      "string:  Hello World\n",
      "<class 'str'>\n",
      "list:  [1, 5, True, 'hello', 2.58, 'world', 55]\n",
      "<class 'list'>\n",
      "float:  88.65\n",
      "<class 'float'>\n",
      "tuple:  (1, 5, True, 'hello', 2.58, 'world', 55)\n",
      "<class 'tuple'>\n",
      "set:  {'hello', 1, 2.58, False, 5, 55, 'world'}\n",
      "<class 'set'>\n"
     ]
    }
   ],
   "source": [
    "#Q2. What are variables in Python? How do you declare and assign values to variables?\n",
    "\n",
    "#Variables are containers for storing data values.\n",
    "s= \"Hello World\"\n",
    "l= [1,5,True,\"hello\", 2.58, \"world\", 55]\n",
    "f= 88.65\n",
    "t= (1,5,True,\"hello\", 2.58, \"world\", 55)\n",
    "set_ = {1,1,5,True,\"hello\", 2.58, \"world\", 55, False}\n",
    "print(\"string: \",s)\n",
    "print (type(s))\n",
    "print(\"list: \",l)\n",
    "print(type(l))\n",
    "print(\"float: \",f)\n",
    "print(type(f))\n",
    "print(\"tuple: \",t)\n",
    "print(type(t))\n",
    "print(\"set: \",set_)\n",
    "print(type(set_))"
   ]
  },
  {
   "cell_type": "code",
   "execution_count": 7,
   "id": "f93106de-9abf-4701-a1ce-841cc5e3bc83",
   "metadata": {},
   "outputs": [
    {
     "name": "stdin",
     "output_type": "stream",
     "text": [
      "Enter any number 5\n"
     ]
    },
    {
     "name": "stdout",
     "output_type": "stream",
     "text": [
      "5\n",
      "<class 'int'>\n",
      "5.0\n",
      "<class 'float'>\n",
      "5\n",
      "<class 'str'>\n",
      "0b101\n",
      "<class 'str'>\n"
     ]
    }
   ],
   "source": [
    "#Q3. How do you convert one data type to another in Python?\n",
    "\n",
    "a= int(input(\"Enter any number\"))\n",
    "print(a)\n",
    "print(type(a))\n",
    "b= float(a)\n",
    "print(b)\n",
    "print(type(b))\n",
    "c= str(a)\n",
    "print(c)\n",
    "print(type(c))\n",
    "d= bin(a)\n",
    "print(d)\n",
    "print(type(d))"
   ]
  },
  {
   "cell_type": "code",
   "execution_count": null,
   "id": "72207aa1-9831-4c5a-b281-a28073c203d0",
   "metadata": {},
   "outputs": [],
   "source": [
    "#Q4. How do you write and execute a Python script from the command line?\n",
    "\n",
    "\n",
    "\"\"\"Using the command: python filename.py\"\"\""
   ]
  },
  {
   "cell_type": "code",
   "execution_count": 65,
   "id": "4195efb4-1bf5-4c83-96d9-02d7e8069b4e",
   "metadata": {},
   "outputs": [
    {
     "name": "stdout",
     "output_type": "stream",
     "text": [
      "[2, 3]\n"
     ]
    }
   ],
   "source": [
    "#Q5. Given a list my_list = [1, 2, 3, 4, 5], write the code to slice the list and obtain the sub-list [2, 3].\n",
    "\n",
    "\n",
    "my_list= [1,2,3,4,5]\n",
    "sub_list= my_list[1:3]\n",
    "print(sub_list)"
   ]
  },
  {
   "cell_type": "code",
   "execution_count": null,
   "id": "d0ad4078-046d-4c1f-89eb-8b7802aed658",
   "metadata": {},
   "outputs": [],
   "source": [
    "#Q6. What is a complex number in mathematics, and how is it represented in Python?\n",
    "\n",
    "\n",
    "\"\"\"A complex number is a number that can be expressed in the form a + bi, \n",
    "where a is real number, b is an imaginary number.\n",
    "\n",
    "In Python, complex numbers are represented as x + yj, \n",
    "where x is the real part and y is the imaginary part.\"\"\""
   ]
  },
  {
   "cell_type": "code",
   "execution_count": 61,
   "id": "37c1bf75-f91e-4c67-8498-96df97d50548",
   "metadata": {},
   "outputs": [
    {
     "name": "stdout",
     "output_type": "stream",
     "text": [
      "25\n"
     ]
    }
   ],
   "source": [
    "#Q7. What is the correct way to declare a variable named age and assign the value 25 to it?\n",
    "\n",
    "\n",
    "\"\"\"Correct way to declare a variable named age and assign the value 25 to it is \"\"\"\n",
    "age = 25\n",
    "print(age)"
   ]
  },
  {
   "cell_type": "code",
   "execution_count": 62,
   "id": "8689a74f-8eee-45a5-8185-4d540b405d00",
   "metadata": {},
   "outputs": [
    {
     "name": "stdout",
     "output_type": "stream",
     "text": [
      "9.99\n",
      "<class 'float'>\n"
     ]
    }
   ],
   "source": [
    "#Q8. Declare a variable named price and assign the value 9.99 to it. What data type does this variable belong to?\n",
    "\n",
    "\n",
    "price = 9.99\n",
    "print(price)\n",
    "print(type(price))"
   ]
  },
  {
   "cell_type": "code",
   "execution_count": 14,
   "id": "fef719f9-c95e-4b02-9c73-c489bfdea882",
   "metadata": {},
   "outputs": [
    {
     "name": "stdin",
     "output_type": "stream",
     "text": [
      "Enter your full name Ayush Rana\n"
     ]
    },
    {
     "name": "stdout",
     "output_type": "stream",
     "text": [
      "Ayush Rana\n",
      "<class 'str'>\n"
     ]
    }
   ],
   "source": [
    "\"\"\"Q9. Create a variable named name and assign your full name to it as a string. How would you print the\n",
    "value of this variable?\"\"\"\n",
    "\n",
    "\n",
    "name = input(\"Enter your full name\")\n",
    "print(name)\n",
    "print(type(name))"
   ]
  },
  {
   "cell_type": "code",
   "execution_count": 63,
   "id": "143fa2de-3911-4121-976b-afd4f995023c",
   "metadata": {},
   "outputs": [
    {
     "name": "stdout",
     "output_type": "stream",
     "text": [
      "World\n"
     ]
    }
   ],
   "source": [
    "#Q10. Given the string \"Hello, World!\", extract the substring \"World\".\n",
    "\n",
    "\n",
    "str1= \"Hello, World!\"\n",
    "str2= str1[7:12]\n",
    "print(str2)"
   ]
  },
  {
   "cell_type": "code",
   "execution_count": 64,
   "id": "e22b0384-b848-4f4f-b10b-365cec2f7264",
   "metadata": {},
   "outputs": [
    {
     "name": "stdout",
     "output_type": "stream",
     "text": [
      "You are a student\n"
     ]
    }
   ],
   "source": [
    "\"\"\"Q11. Create a variable named \"is_student\" and assign it a boolean value indicating whether you are\n",
    "currently a student or not.\"\"\"\n",
    "\n",
    "\n",
    "is_student= True\n",
    "if is_student:\n",
    "    print(\"You are a student\")\n",
    "else:\n",
    "    print(\"you are not a student\")\n"
   ]
  }
 ],
 "metadata": {
  "kernelspec": {
   "display_name": "Python 3 (ipykernel)",
   "language": "python",
   "name": "python3"
  },
  "language_info": {
   "codemirror_mode": {
    "name": "ipython",
    "version": 3
   },
   "file_extension": ".py",
   "mimetype": "text/x-python",
   "name": "python",
   "nbconvert_exporter": "python",
   "pygments_lexer": "ipython3",
   "version": "3.10.8"
  }
 },
 "nbformat": 4,
 "nbformat_minor": 5
}
