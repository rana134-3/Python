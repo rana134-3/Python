{
 "cells": [
  {
   "cell_type": "code",
   "execution_count": null,
   "id": "edf6bc09-5982-4ef9-a7fc-830d7fee6add",
   "metadata": {},
   "outputs": [],
   "source": [
    "\"\"\"Map function example\"\"\""
   ]
  },
  {
   "cell_type": "code",
   "execution_count": 19,
   "id": "90fe17d9-d38f-42dd-aebb-64cc7363fbb1",
   "metadata": {},
   "outputs": [
    {
     "name": "stdout",
     "output_type": "stream",
     "text": [
      "[4, 16, 64, 100]\n"
     ]
    }
   ],
   "source": [
    "#print power of each element of list\n",
    "l= [2,4,8,10]\n",
    "sq = lambda i: i**2\n",
    "sq1=list(map(sq, l))\n",
    "print(sq1)"
   ]
  },
  {
   "cell_type": "code",
   "execution_count": 21,
   "id": "ad7636fa-7124-4b05-8a2c-160a2d77fa07",
   "metadata": {},
   "outputs": [
    {
     "name": "stdout",
     "output_type": "stream",
     "text": [
      "[4, 8, 16, 20]\n"
     ]
    }
   ],
   "source": [
    "#multiply 2 in every element of list\n",
    "l= [2,4,8,10]\n",
    "multiply = list(map(lambda i: i*2, l))\n",
    "print(multiply)"
   ]
  },
  {
   "cell_type": "code",
   "execution_count": 22,
   "id": "3d87bf14-77d7-4352-8c27-a7eec26bb0ca",
   "metadata": {},
   "outputs": [
    {
     "name": "stdout",
     "output_type": "stream",
     "text": [
      "[5, 7, 9, 11, 13]\n"
     ]
    }
   ],
   "source": [
    "#add two list elements\n",
    "l1 =[0,1,2,3,4]\n",
    "l2=[5,6,7,8,9]\n",
    "add = list(map(lambda a,b: a+b, l1,l2))\n",
    "print(add)"
   ]
  },
  {
   "cell_type": "code",
   "execution_count": 25,
   "id": "5ddc13bd-0f1a-473d-8c68-3870ddc460b9",
   "metadata": {},
   "outputs": [
    {
     "name": "stdout",
     "output_type": "stream",
     "text": [
      "['H', 'E', 'L', 'L', 'O', ' ', 'W', 'O', 'R', 'L', 'D']\n"
     ]
    }
   ],
   "source": [
    "#Print each element of list in uppercase\n",
    "st = \"Hello World\"\n",
    "st1 = list(map(lambda st: st.upper(), st))\n",
    "print(st1)"
   ]
  },
  {
   "cell_type": "code",
   "execution_count": null,
   "id": "3a306c2e-c1b5-44bd-87a2-6b80760d83e1",
   "metadata": {},
   "outputs": [],
   "source": [
    "\"\"\"Reduce function example\"\"\""
   ]
  },
  {
   "cell_type": "code",
   "execution_count": 30,
   "id": "18d72e43-c6bf-4030-81ba-9b2464074b75",
   "metadata": {},
   "outputs": [
    {
     "name": "stdout",
     "output_type": "stream",
     "text": [
      "HELLO WORLD\n"
     ]
    }
   ],
   "source": [
    "#Print all element sof list together\n",
    "from functools import reduce\n",
    "l = [\"H\",\"E\",\"L\",\"L\",\"O\",\" \",\"W\",\"O\",\"R\",\"L\",\"D\"]\n",
    "l1= reduce(lambda a,b: a+b, l)\n",
    "print(l1)"
   ]
  },
  {
   "cell_type": "code",
   "execution_count": 32,
   "id": "94fffba6-1bac-4b24-b528-c99010bcb98f",
   "metadata": {},
   "outputs": [
    {
     "name": "stdout",
     "output_type": "stream",
     "text": [
      "60\n"
     ]
    }
   ],
   "source": [
    "#print greatest number in list\n",
    "l = [1,2,60,0,4,3.52]\n",
    "l1 = reduce(lambda x,y: x if x>y else y, l )\n",
    "print(l1)"
   ]
  },
  {
   "cell_type": "code",
   "execution_count": 34,
   "id": "bb3d65f4-120b-42b0-b3aa-aa340d59430c",
   "metadata": {},
   "outputs": [
    {
     "name": "stdout",
     "output_type": "stream",
     "text": [
      "604.8\n"
     ]
    }
   ],
   "source": [
    "#Multiply all the elements in the list\n",
    "l = [1,2,3,4,9,2.8]\n",
    "l1=reduce(lambda a,b: a*b, l )\n",
    "print(l1)"
   ]
  },
  {
   "cell_type": "code",
   "execution_count": 35,
   "id": "893f0dde-7a4e-49ae-ba5a-4df0f311e584",
   "metadata": {},
   "outputs": [
    {
     "name": "stdout",
     "output_type": "stream",
     "text": [
      "21.8\n"
     ]
    }
   ],
   "source": [
    "#Add all the elements in the list\n",
    "l = [1,2,3,4,9,2.8]\n",
    "l1=reduce(lambda a,b: a+b, l )\n",
    "print(l1)"
   ]
  },
  {
   "cell_type": "code",
   "execution_count": 36,
   "id": "7f11bfd4-ca6c-4bc6-91c1-484339e629c3",
   "metadata": {},
   "outputs": [
    {
     "name": "stdout",
     "output_type": "stream",
     "text": [
      "-19.8\n"
     ]
    }
   ],
   "source": [
    "#Subtract all the elements in the list\n",
    "l = [1,2,3,4,9,2.8]\n",
    "l1=reduce(lambda a,b: a-b, l )\n",
    "print(l1)"
   ]
  },
  {
   "cell_type": "code",
   "execution_count": null,
   "id": "f5aa0963-d7d5-4173-a123-88b52542c98d",
   "metadata": {},
   "outputs": [],
   "source": [
    "'''Filter function examples'''"
   ]
  },
  {
   "cell_type": "code",
   "execution_count": 38,
   "id": "e8d07c12-6cdf-44f8-a756-8c32c651fe11",
   "metadata": {},
   "outputs": [
    {
     "name": "stdout",
     "output_type": "stream",
     "text": [
      "[2, 4]\n"
     ]
    }
   ],
   "source": [
    "#Print even number from list\n",
    "l= [1,2,3,4,5]\n",
    "a= list(filter(lambda a: a%2==0, l))\n",
    "print(a)"
   ]
  },
  {
   "cell_type": "code",
   "execution_count": 39,
   "id": "bf39a594-7b4e-480d-af53-e41fea45fb54",
   "metadata": {},
   "outputs": [
    {
     "name": "stdout",
     "output_type": "stream",
     "text": [
      "[1, 3, 5]\n"
     ]
    }
   ],
   "source": [
    "#Print odd number from list\n",
    "l= [1,2,3,4,5]\n",
    "a= list(filter(lambda a: a%2!=0, l))\n",
    "print(a)"
   ]
  },
  {
   "cell_type": "code",
   "execution_count": 41,
   "id": "97953ff5-cc72-4c6f-af3f-38d7fb608e57",
   "metadata": {},
   "outputs": [
    {
     "name": "stdout",
     "output_type": "stream",
     "text": [
      "[-6, -3.8, -9.0]\n"
     ]
    }
   ],
   "source": [
    "#Print negative number from the list\n",
    "l= [0,-6,8,-3.8,44,6.5,-9.0,4.0]\n",
    "a= list(filter(lambda a: a<0, l))\n",
    "print(a)"
   ]
  },
  {
   "cell_type": "code",
   "execution_count": 42,
   "id": "586465b5-ad3f-46a2-ad25-ba8a6922e34c",
   "metadata": {},
   "outputs": [
    {
     "name": "stdout",
     "output_type": "stream",
     "text": [
      "[8, 44, 6.5, 4.0]\n"
     ]
    }
   ],
   "source": [
    "#Print positive number from the list\n",
    "l= [0,-6,8,-3.8,44,6.5,-9.0,4.0]\n",
    "a= list(filter(lambda a: a>0, l))\n",
    "print(a)"
   ]
  },
  {
   "cell_type": "code",
   "execution_count": 46,
   "id": "7267a955-52b4-4990-be59-d0cdb06e6ee6",
   "metadata": {},
   "outputs": [
    {
     "name": "stdout",
     "output_type": "stream",
     "text": [
      "['ayush', 'rage', 'python', 'meerut', 'data']\n"
     ]
    }
   ],
   "source": [
    "#Print element whose lenght is less or equal to 6\n",
    "l= [\"ayush\", \"rage\",\"python\",\"hello world\",\"pwskills\",\"functions\",\"chandigarh\",\"meerut\",\"data\"]\n",
    "a= list(filter(lambda a: len(a)<=6,l))\n",
    "print(a)"
   ]
  },
  {
   "cell_type": "code",
   "execution_count": null,
   "id": "6bf19872-af85-4979-9bfd-901d1149054b",
   "metadata": {},
   "outputs": [],
   "source": []
  }
 ],
 "metadata": {
  "kernelspec": {
   "display_name": "Python 3 (ipykernel)",
   "language": "python",
   "name": "python3"
  },
  "language_info": {
   "codemirror_mode": {
    "name": "ipython",
    "version": 3
   },
   "file_extension": ".py",
   "mimetype": "text/x-python",
   "name": "python",
   "nbconvert_exporter": "python",
   "pygments_lexer": "ipython3",
   "version": "3.10.8"
  }
 },
 "nbformat": 4,
 "nbformat_minor": 5
}
