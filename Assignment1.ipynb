{
 "cells": [
  {
   "cell_type": "code",
   "execution_count": 3,
   "id": "2473531b-64a0-4d09-9edb-3026b31264b8",
   "metadata": {},
   "outputs": [
    {
     "name": "stdout",
     "output_type": "stream",
     "text": [
      "string:  Hello World\n",
      "<class 'str'>\n",
      "list:  [1, 5, True, 'hello', 2.58, 'world', 55]\n",
      "<class 'list'>\n",
      "float:  88.65\n",
      "<class 'float'>\n",
      "tuple:  (1, 5, True, 'hello', 2.58, 'world', 55)\n",
      "<class 'tuple'>\n"
     ]
    }
   ],
   "source": [
    "\"\"\"Q.1 Create one variable containing following type of data:\n",
    "(i) string\n",
    "(ii) list\n",
    "(iii) float\n",
    "(iv) tuple\"\"\"\n",
    "s= \"Hello World\"\n",
    "l= [1,5,True,\"hello\", 2.58, \"world\", 55]\n",
    "f= 88.65\n",
    "t= (1,5,True,\"hello\", 2.58, \"world\", 55)\n",
    "print(\"string: \",s)\n",
    "print (type(s))\n",
    "print(\"list: \",l)\n",
    "print(type(l))\n",
    "print(\"float: \",f)\n",
    "print(type(f))\n",
    "print(\"tuple: \",t)\n",
    "print(type(t))"
   ]
  },
  {
   "cell_type": "code",
   "execution_count": 4,
   "id": "b3c96fb8-573f-4e39-afa5-35d536bccc24",
   "metadata": {},
   "outputs": [
    {
     "name": "stdout",
     "output_type": "stream",
     "text": [
      "<class 'str'>\n",
      "<class 'str'>\n",
      "<class 'list'>\n",
      "<class 'int'>\n"
     ]
    }
   ],
   "source": [
    "\"\"\"Q.2 Given are some following variables containing data:\n",
    "(i) var1 = ‘ ‘\n",
    "(ii) var2 = ‘[ DS , ML , Python]’\n",
    "(iii) var3 = [ ‘DS’ , ’ML’ , ‘Python’ ]\n",
    "(iv) var4 = 1\n",
    "What will be the data type of the above given variable.\"\"\"\n",
    "var1=\" \"\n",
    "var2= '[DS,ML,Python]'\n",
    "var3= ['DS','ML','Python']\n",
    "var4= 1\n",
    "print(type(var1))\n",
    "print(type(var2))\n",
    "print(type(var3))\n",
    "print(type(var4))"
   ]
  },
  {
   "cell_type": "code",
   "execution_count": 6,
   "id": "a349d5ea-05f9-4a54-a144-6ec041e66333",
   "metadata": {},
   "outputs": [
    {
     "name": "stdin",
     "output_type": "stream",
     "text": [
      "Enter the first number:  4\n",
      "Enter the second number:  2\n"
     ]
    },
    {
     "name": "stdout",
     "output_type": "stream",
     "text": [
      "Division of two numbers is:  2.0\n",
      "Modulus of two numbers is:  0\n",
      "Floor division of two numbers is:  2\n",
      "Exponent of two numbers is:  16\n"
     ]
    }
   ],
   "source": [
    "\"\"\"Q.3 Explain the use of the following operators using an example:\n",
    "(i) /\n",
    "(ii) %\n",
    "(iii) //\n",
    "(iv) **\"\"\"\n",
    "a= int(input(\"Enter the first number: \"))\n",
    "b= int(input(\"Enter the second number: \"))\n",
    "w= a/b #division\n",
    "print(\"Division of two numbers is: \",w)\n",
    "x= a%b #modulus\n",
    "print(\"Modulus of two numbers is: \",x)\n",
    "y= a//b #floor division\n",
    "print(\"Floor division of two numbers is: \",y)\n",
    "z= a**b #exponent\n",
    "print(\"Exponent of two numbers is: \",z)"
   ]
  },
  {
   "cell_type": "code",
   "execution_count": 7,
   "id": "80433c62-d50a-4fbc-8358-f3f719c3269f",
   "metadata": {},
   "outputs": [
    {
     "name": "stdout",
     "output_type": "stream",
     "text": [
      "1\n",
      "<class 'int'>\n",
      "5\n",
      "<class 'int'>\n",
      "True\n",
      "<class 'bool'>\n",
      "hello\n",
      "<class 'str'>\n",
      "2.58\n",
      "<class 'float'>\n",
      "world\n",
      "<class 'str'>\n",
      "55\n",
      "<class 'int'>\n",
      "False\n",
      "<class 'bool'>\n",
      "88\n",
      "<class 'str'>\n",
      "63.3\n",
      "<class 'float'>\n"
     ]
    }
   ],
   "source": [
    "\"\"\"Q.4 Create a list of length 10 of your choice containing multiple types of data. Using for loop print the\n",
    "element and its data type.\"\"\"\n",
    "l= [1,5,True,\"hello\", 2.58, \"world\", 55,False,\"88\",63.30]\n",
    "for k in l:\n",
    "    print(k)\n",
    "    print(type(k))"
   ]
  },
  {
   "cell_type": "code",
   "execution_count": 9,
   "id": "8aa99b2b-a029-4ef0-8828-7d0592e6847a",
   "metadata": {},
   "outputs": [
    {
     "name": "stdin",
     "output_type": "stream",
     "text": [
      "Enter number A:  85\n",
      "Enter number B:  4\n"
     ]
    },
    {
     "name": "stdout",
     "output_type": "stream",
     "text": [
      "Number A is not divisible by number B.\n"
     ]
    }
   ],
   "source": [
    "\"\"\"Q.5 Using a while loop, verify if the number A is purely divisible by number B and if so then how many\n",
    "times it can be divisible.\"\"\"\n",
    "a = int(input(\"Enter number A: \"))\n",
    "b = int(input(\"Enter number B: \"))\n",
    "count = 0  # Counter variable to keep track of the number of divisions\n",
    "while a >= b:\n",
    "    if a % b == 0:\n",
    "        a = a // b\n",
    "        count += 1\n",
    "    else:\n",
    "        break\n",
    "if count > 0:\n",
    "    print(\"Number A is divisible by number B \", count, \"times.\")\n",
    "else:\n",
    "    print(\"Number A is not divisible by number B.\")"
   ]
  },
  {
   "cell_type": "code",
   "execution_count": 10,
   "id": "a90eeb8e-64a1-4716-bdb7-9b2de7929ebe",
   "metadata": {},
   "outputs": [
    {
     "name": "stdout",
     "output_type": "stream",
     "text": [
      "1 is not divisible by 3\n",
      "2 is not divisible by 3\n",
      "3 is divisible by 3\n",
      "4 is not divisible by 3\n",
      "5 is not divisible by 3\n",
      "6 is divisible by 3\n",
      "7 is not divisible by 3\n",
      "8 is not divisible by 3\n",
      "9 is divisible by 3\n",
      "10 is not divisible by 3\n",
      "11 is not divisible by 3\n",
      "12 is divisible by 3\n",
      "13 is not divisible by 3\n",
      "14 is not divisible by 3\n",
      "15 is divisible by 3\n",
      "16 is not divisible by 3\n",
      "17 is not divisible by 3\n",
      "18 is divisible by 3\n",
      "19 is not divisible by 3\n",
      "20 is not divisible by 3\n",
      "21 is divisible by 3\n",
      "22 is not divisible by 3\n",
      "23 is not divisible by 3\n",
      "24 is divisible by 3\n",
      "25 is not divisible by 3\n"
     ]
    }
   ],
   "source": [
    "\"\"\"Q.6 Create a list containing 25 int type data. Using for loop and if-else condition print if the element is\n",
    "divisible by 3 or not.\"\"\"\n",
    "l= [1,2,3,4,5,6,7,8,9,10,11,12,13,14,15,16,17,18,19,20,21,22,23,24,25]\n",
    "for i in l:\n",
    "    if i%3==0:\n",
    "        print(i,\"is divisible by 3\")\n",
    "    else:\n",
    "        print(i,\"is not divisible by 3\")"
   ]
  },
  {
   "cell_type": "code",
   "execution_count": 11,
   "id": "2b7d4622-6ba9-4ce7-876f-9f2ec896ece7",
   "metadata": {},
   "outputs": [
    {
     "name": "stdout",
     "output_type": "stream",
     "text": [
      "list before changing value at index 5:  [1, 5, 'hello', 9.8, 88, 'everyone', 55.69]\n",
      "list after changing value at index 5:  [1, 5, 'hello', 9.8, 88, 'world', 55.69]\n",
      "string before changing value at index 8:  Hello World\n"
     ]
    },
    {
     "ename": "TypeError",
     "evalue": "'str' object does not support item assignment",
     "output_type": "error",
     "traceback": [
      "\u001b[0;31m---------------------------------------------------------------------------\u001b[0m",
      "\u001b[0;31mTypeError\u001b[0m                                 Traceback (most recent call last)",
      "Cell \u001b[0;32mIn[11], line 13\u001b[0m\n\u001b[1;32m     11\u001b[0m s \u001b[38;5;241m=\u001b[39m \u001b[38;5;124m\"\u001b[39m\u001b[38;5;124mHello World\u001b[39m\u001b[38;5;124m\"\u001b[39m\n\u001b[1;32m     12\u001b[0m \u001b[38;5;28mprint\u001b[39m(\u001b[38;5;124m\"\u001b[39m\u001b[38;5;124mstring before changing value at index 8: \u001b[39m\u001b[38;5;124m\"\u001b[39m,s)\n\u001b[0;32m---> 13\u001b[0m \u001b[43ms\u001b[49m\u001b[43m[\u001b[49m\u001b[38;5;241;43m8\u001b[39;49m\u001b[43m]\u001b[49m \u001b[38;5;241m=\u001b[39m \u001b[38;5;124m\"\u001b[39m\u001b[38;5;124ml\u001b[39m\u001b[38;5;124m\"\u001b[39m\n\u001b[1;32m     14\u001b[0m \u001b[38;5;28mprint\u001b[39m(\u001b[38;5;124m\"\u001b[39m\u001b[38;5;124mlist after changing value at index 8: \u001b[39m\u001b[38;5;124m\"\u001b[39m,s)\n",
      "\u001b[0;31mTypeError\u001b[0m: 'str' object does not support item assignment"
     ]
    }
   ],
   "source": [
    "\"\"\"Q.7 What do you understand about mutable and immutable data types? Give examples for both showing\n",
    "this property.\"\"\"\n",
    "\n",
    "#Mutable objects are those objects whose value can be changed after they are created.\n",
    "l = [1,5,\"hello\",9.8,88, \"everyone\",55.69]\n",
    "print(\"list before changing value at index 5: \",l)\n",
    "l[5] = \"world\"\n",
    "print(\"list after changing value at index 5: \",l)\n",
    "\n",
    "#Immutable object are those object whose value can not be changed after creation.\n",
    "s = \"Hello World\"\n",
    "print(\"string before changing value at index 8: \",s)\n",
    "s[8] = \"l\"\n",
    "print(\"list after changing value at index 8: \",s)"
   ]
  },
  {
   "cell_type": "code",
   "execution_count": null,
   "id": "ee3cd56e-07ad-45ea-a099-4df4bbcc5923",
   "metadata": {},
   "outputs": [],
   "source": []
  }
 ],
 "metadata": {
  "kernelspec": {
   "display_name": "Python 3 (ipykernel)",
   "language": "python",
   "name": "python3"
  },
  "language_info": {
   "codemirror_mode": {
    "name": "ipython",
    "version": 3
   },
   "file_extension": ".py",
   "mimetype": "text/x-python",
   "name": "python",
   "nbconvert_exporter": "python",
   "pygments_lexer": "ipython3",
   "version": "3.10.8"
  }
 },
 "nbformat": 4,
 "nbformat_minor": 5
}
