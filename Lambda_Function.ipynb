{
 "cells": [
  {
   "cell_type": "code",
   "execution_count": 1,
   "id": "7805e08d-0ca6-43ce-8c1d-1a9fa93ecd5f",
   "metadata": {},
   "outputs": [
    {
     "data": {
      "text/plain": [
       "16"
      ]
     },
     "execution_count": 1,
     "metadata": {},
     "output_type": "execute_result"
    }
   ],
   "source": [
    "power = lambda a,b: a**b\n",
    "power(4,2)"
   ]
  },
  {
   "cell_type": "code",
   "execution_count": 2,
   "id": "b4fc19e1-eb04-400f-8ae9-29184440e835",
   "metadata": {},
   "outputs": [
    {
     "data": {
      "text/plain": [
       "10"
      ]
     },
     "execution_count": 2,
     "metadata": {},
     "output_type": "execute_result"
    }
   ],
   "source": [
    "add = lambda a,b: a+b\n",
    "add(5,5)"
   ]
  },
  {
   "cell_type": "code",
   "execution_count": 6,
   "id": "6bf0bb2a-601e-418e-83ea-170c72522fea",
   "metadata": {},
   "outputs": [
    {
     "data": {
      "text/plain": [
       "9"
      ]
     },
     "execution_count": 6,
     "metadata": {},
     "output_type": "execute_result"
    }
   ],
   "source": [
    "max_= lambda a,b: a if a>b else b\n",
    "max_(9,6)"
   ]
  },
  {
   "cell_type": "code",
   "execution_count": 8,
   "id": "0db6c8c0-b573-4129-9100-25e718539670",
   "metadata": {},
   "outputs": [
    {
     "data": {
      "text/plain": [
       "5"
      ]
     },
     "execution_count": 8,
     "metadata": {},
     "output_type": "execute_result"
    }
   ],
   "source": [
    "len_ = lambda s: len(s)\n",
    "len_(\"ayush\")"
   ]
  },
  {
   "cell_type": "code",
   "execution_count": null,
   "id": "47291df1-f38e-4cb4-ab02-2d0bb57406da",
   "metadata": {},
   "outputs": [],
   "source": []
  }
 ],
 "metadata": {
  "kernelspec": {
   "display_name": "Python 3 (ipykernel)",
   "language": "python",
   "name": "python3"
  },
  "language_info": {
   "codemirror_mode": {
    "name": "ipython",
    "version": 3
   },
   "file_extension": ".py",
   "mimetype": "text/x-python",
   "name": "python",
   "nbconvert_exporter": "python",
   "pygments_lexer": "ipython3",
   "version": "3.10.8"
  }
 },
 "nbformat": 4,
 "nbformat_minor": 5
}
