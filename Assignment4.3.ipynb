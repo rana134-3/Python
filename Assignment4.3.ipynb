{
 "cells": [
  {
   "cell_type": "code",
   "execution_count": 1,
   "id": "fb1377b1-e034-42a6-b9f8-b6dd9a2ac885",
   "metadata": {},
   "outputs": [],
   "source": [
    "'''Q1. What is Abstraction in OOps? Explain with an example.'''\n",
    "\n",
    "\"\"\"Abstraction: The process of showing only essential or necessary features of an entity/object \n",
    "to the user and hiding the other irrelevant information.\"\"\"\n",
    "\n",
    "#Example \n",
    "\n",
    "import abc\n",
    "class Vehicle:\n",
    "    @abc.abstractmethod\n",
    "    def start(self):\n",
    "        pass\n",
    "    @abc.abstractmethod\n",
    "    def stop(self):\n",
    "        pass\n",
    "    \n",
    "class Car(Vehicle):\n",
    "    def start(self):\n",
    "        return \"Car Started\"\n",
    "    def stop(self):\n",
    "        return \"Car Stoped\"\n",
    "    \n",
    "class Bike(Vehicle):\n",
    "    def start(self):\n",
    "        return \"Bike Started\"\n",
    "    def stop(self):\n",
    "        return \"Bike Stoped\"\n",
    "    \n",
    "car = Car()\n",
    "bike = Bike()"
   ]
  },
  {
   "cell_type": "code",
   "execution_count": 2,
   "id": "48664d0b-9a04-451e-932c-85d53676f9d1",
   "metadata": {},
   "outputs": [
    {
     "data": {
      "text/plain": [
       "'Car Started'"
      ]
     },
     "execution_count": 2,
     "metadata": {},
     "output_type": "execute_result"
    }
   ],
   "source": [
    "car.start()"
   ]
  },
  {
   "cell_type": "code",
   "execution_count": 3,
   "id": "403829fd-0b64-406f-a3e0-07b06eac6826",
   "metadata": {},
   "outputs": [
    {
     "data": {
      "text/plain": [
       "'Bike Started'"
      ]
     },
     "execution_count": 3,
     "metadata": {},
     "output_type": "execute_result"
    }
   ],
   "source": [
    "bike.start()"
   ]
  },
  {
   "cell_type": "code",
   "execution_count": 4,
   "id": "4264b3fe-04dc-4244-a0ac-6e2d26d2f100",
   "metadata": {},
   "outputs": [
    {
     "data": {
      "text/plain": [
       "'Car Stoped'"
      ]
     },
     "execution_count": 4,
     "metadata": {},
     "output_type": "execute_result"
    }
   ],
   "source": [
    "car.stop()"
   ]
  },
  {
   "cell_type": "code",
   "execution_count": 5,
   "id": "68d2072a-9a51-4937-af24-2fb49cb10b56",
   "metadata": {},
   "outputs": [
    {
     "data": {
      "text/plain": [
       "'Bike Stoped'"
      ]
     },
     "execution_count": 5,
     "metadata": {},
     "output_type": "execute_result"
    }
   ],
   "source": [
    "bike.stop()"
   ]
  },
  {
   "cell_type": "code",
   "execution_count": 6,
   "id": "5abde53c-4cb5-4263-a81d-381bb2b8ca55",
   "metadata": {},
   "outputs": [
    {
     "data": {
      "text/plain": [
       "'Car Started'"
      ]
     },
     "execution_count": 6,
     "metadata": {},
     "output_type": "execute_result"
    }
   ],
   "source": [
    "'''Q2. Differentiate between Abstraction and Encapsulation. Explain with an example.'''\n",
    "\n",
    "\"\"\"Abstraction: The process of showing only essential or necessary features of an entity/object \n",
    "to the user and hiding the other irrelevant information.\"\"\"\n",
    "\n",
    "#Example \n",
    "\n",
    "import abc\n",
    "class Vehicle:\n",
    "    @abc.abstractmethod\n",
    "    def start(self):\n",
    "        pass\n",
    "    @abc.abstractmethod\n",
    "    def stop(self):\n",
    "        pass\n",
    "    \n",
    "class Car(Vehicle):\n",
    "    def start(self):\n",
    "        return \"Car Started\"\n",
    "    def stop(self):\n",
    "        return \"Car Stoped\"\n",
    "    \n",
    "class Bike(Vehicle):\n",
    "    def start(self):\n",
    "        return \"Bike Started\"\n",
    "    def stop(self):\n",
    "        return \"Bike Stoped\"\n",
    "    \n",
    "car = Car()\n",
    "bike = Bike()\n",
    "car.start()"
   ]
  },
  {
   "cell_type": "code",
   "execution_count": 7,
   "id": "fc51e755-fcdf-47fb-9bcf-bd7a662bcc4c",
   "metadata": {},
   "outputs": [
    {
     "data": {
      "text/plain": [
       "'Bike Started'"
      ]
     },
     "execution_count": 7,
     "metadata": {},
     "output_type": "execute_result"
    }
   ],
   "source": [
    "bike.start()"
   ]
  },
  {
   "cell_type": "code",
   "execution_count": 9,
   "id": "814e8024-828b-4481-82f1-fbf6462a84f5",
   "metadata": {},
   "outputs": [],
   "source": [
    "\"\"\"Encapsulation: The process of wrapping data and methods into a single unit (called class) and \n",
    "restricting access to them from outside the class.\"\"\"\n",
    "\n",
    "#Example\n",
    "\n",
    "class BankAccount:\n",
    "    \n",
    "    def __init__(self, account_number, balance, pin):\n",
    "        self.__account_number = account_number\n",
    "        self.__balance = balance\n",
    "        self.__pin = pin\n",
    "        \n",
    "    def deposit(self, amount):\n",
    "        self.__balance += amount\n",
    "        \n",
    "    def withdraw(self, amount, pin):\n",
    "        if self.__pin == pin and self.__balance >= amount:\n",
    "            self.__balance -= amount\n",
    "            return \"Withdrawal Successful\"\n",
    "        elif self.__pin == pin and self.__balance < amount:\n",
    "            return \"Insufficient Balance\"\n",
    "        else:\n",
    "            return \"Incorrect Pin\"\n",
    "        \n",
    "    def get_balance(self, pin):\n",
    "        if self.__pin == pin:\n",
    "            return self.__balance\n",
    "        else:\n",
    "            return \"Incorrect Pin\"\n",
    "    \n",
    "    def set_pin(self, new_pin):\n",
    "        if self.__pin == new_pin:\n",
    "            return \"pin you have entered is already in use\"\n",
    "        else:\n",
    "            self.__pin = new_pin\n",
    "            return \"New Pin set successfully\"\n",
    "        \n",
    "ayush = BankAccount(982040638985, 5000, 1986)"
   ]
  },
  {
   "cell_type": "code",
   "execution_count": 10,
   "id": "c0253c6b-a0c4-44a2-9566-bc7158d983ee",
   "metadata": {},
   "outputs": [
    {
     "data": {
      "text/plain": [
       "5000"
      ]
     },
     "execution_count": 10,
     "metadata": {},
     "output_type": "execute_result"
    }
   ],
   "source": [
    "ayush.get_balance(1986)"
   ]
  },
  {
   "cell_type": "code",
   "execution_count": 11,
   "id": "95e0e7ea-ffd3-44bd-b4b3-c6f9d21dc771",
   "metadata": {},
   "outputs": [
    {
     "data": {
      "text/plain": [
       "'Withdrawal Successful'"
      ]
     },
     "execution_count": 11,
     "metadata": {},
     "output_type": "execute_result"
    }
   ],
   "source": [
    "ayush.withdraw(2000, 1986)"
   ]
  },
  {
   "cell_type": "code",
   "execution_count": 12,
   "id": "e1325cf2-7856-474c-adbc-bae14c2b1b54",
   "metadata": {},
   "outputs": [],
   "source": [
    "ayush.deposit(7000)"
   ]
  },
  {
   "cell_type": "code",
   "execution_count": null,
   "id": "107425d2-6f70-4ad4-a652-745b7a369d6e",
   "metadata": {},
   "outputs": [],
   "source": [
    "'''Q3. What is abc module in python? Why is it used?'''\n",
    "\n",
    "\"\"\"The abc module provides a way to define abstract base classes, which serve as blueprints or specifications \n",
    "for other classes to adhere to. Abstract base classes cannot be instantiated themselves, \n",
    "but they can be subclassed by other classes.\n",
    "\n",
    "It is used for Defining Abstract Base Classes\"\"\""
   ]
  },
  {
   "cell_type": "code",
   "execution_count": 17,
   "id": "fb14014c-288c-4137-b822-ce9f55ae35d3",
   "metadata": {},
   "outputs": [
    {
     "name": "stdout",
     "output_type": "stream",
     "text": [
      "Account Balance: 1300\n"
     ]
    }
   ],
   "source": [
    "'''Q4. How can we achieve data abstraction?'''\n",
    "\n",
    "\"\"\"Data abstraction in Python refers to the concept of hiding internal implementation details \n",
    "and providing a simplified and controlled interface to interact with the data. \n",
    "It allows you to focus on the essential features of an object or data structure while hiding the complexities.\n",
    "\n",
    "In Python, you can achieve data abstraction using classes and encapsulation.\"\"\"\n",
    "\n",
    "#Example\n",
    "\n",
    "class BankAccount:\n",
    "    def __init__(self, account_number, balance):\n",
    "        self._account_number = account_number\n",
    "        self._balance = balance\n",
    "\n",
    "    def deposit(self, amount):\n",
    "        self._balance += amount\n",
    "\n",
    "    def withdraw(self, amount):\n",
    "        if amount <= self._balance:\n",
    "            self._balance -= amount\n",
    "        else:\n",
    "            print(\"Insufficient balance.\")\n",
    "\n",
    "    def get_balance(self):\n",
    "        return self._balance\n",
    "\n",
    "\n",
    "account = BankAccount(\"123456789\", 1000)\n",
    "\n",
    "account.deposit(500)\n",
    "account.withdraw(200)\n",
    "balance = account.get_balance()\n",
    "print(\"Account Balance:\", balance)"
   ]
  },
  {
   "cell_type": "code",
   "execution_count": 20,
   "id": "0cbb2283-5baa-406b-b0a3-c6b3d41def33",
   "metadata": {},
   "outputs": [
    {
     "ename": "TypeError",
     "evalue": "Can't instantiate abstract class AbstractClass with abstract method abstract_method",
     "output_type": "error",
     "traceback": [
      "\u001b[0;31m---------------------------------------------------------------------------\u001b[0m",
      "\u001b[0;31mTypeError\u001b[0m                                 Traceback (most recent call last)",
      "Cell \u001b[0;32mIn[20], line 23\u001b[0m\n\u001b[1;32m     20\u001b[0m         \u001b[38;5;28;01mpass\u001b[39;00m\n\u001b[1;32m     22\u001b[0m \u001b[38;5;66;03m# Trying to create an instance of the abstract class\u001b[39;00m\n\u001b[0;32m---> 23\u001b[0m instance \u001b[38;5;241m=\u001b[39m \u001b[43mAbstractClass\u001b[49m\u001b[43m(\u001b[49m\u001b[43m)\u001b[49m\n",
      "\u001b[0;31mTypeError\u001b[0m: Can't instantiate abstract class AbstractClass with abstract method abstract_method"
     ]
    }
   ],
   "source": [
    "'''Q5. Can we create an instance of an abstract class? Explain your answer.'''\n",
    "\n",
    "\"\"\"No, we cannot create an instance of an abstract class in Python.\n",
    "\n",
    "An abstract class is a class that is designed to serve as a blueprint for other classes. \n",
    "It defines a common interface or a set of methods that subclasses should implement. \n",
    "Abstract classes cannot be instantiated because they are incomplete by themselves \n",
    "and may have abstract methods that lack implementation.\n",
    "\n",
    "In Python, abstract classes are typically defined using the abc module. \n",
    "By using the @abstractmethod decorator, abstract methods are specified within the abstract class, \n",
    "indicating that the subclasses must provide their own implementation.\"\"\"\n",
    "\n",
    "#Example that demonstrates the inability to instantiate an abstract class:\n",
    "\n",
    "from abc import ABC, abstractmethod\n",
    "class AbstractClass(ABC):\n",
    "    @abstractmethod\n",
    "    def abstract_method(self):\n",
    "        pass\n",
    "\n",
    "# Trying to create an instance of the abstract class\n",
    "instance = AbstractClass()\n"
   ]
  },
  {
   "cell_type": "code",
   "execution_count": null,
   "id": "b60f561a-f900-401e-ba39-8b6d86781ef6",
   "metadata": {},
   "outputs": [],
   "source": []
  }
 ],
 "metadata": {
  "kernelspec": {
   "display_name": "Python 3 (ipykernel)",
   "language": "python",
   "name": "python3"
  },
  "language_info": {
   "codemirror_mode": {
    "name": "ipython",
    "version": 3
   },
   "file_extension": ".py",
   "mimetype": "text/x-python",
   "name": "python",
   "nbconvert_exporter": "python",
   "pygments_lexer": "ipython3",
   "version": "3.10.8"
  }
 },
 "nbformat": 4,
 "nbformat_minor": 5
}
