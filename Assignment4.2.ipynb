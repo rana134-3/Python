{
 "cells": [
  {
   "cell_type": "code",
   "execution_count": 9,
   "id": "8dcf2731-bff4-421d-b917-f7db04fc2f2d",
   "metadata": {},
   "outputs": [],
   "source": [
    "'''Q1. Explain Class and Object with respect to Object-Oriented Programming. Give a suitable example.'''\n",
    "\n",
    "\"\"\"Class is the user defined blueprint form which object is created\n",
    "Classes are created by keyword class\n",
    "\n",
    "Object is the attribute of the class\"\"\"\n",
    "\n",
    "#Example\n",
    "class Car:  #Car is the class\n",
    "    \n",
    "    def __init__(self, year, company, model, speed):\n",
    "        self.__year = year\n",
    "        self.__company = company\n",
    "        self.__model = model\n",
    "        self.__speed = speed\n",
    "        \n",
    "    def set_speed(self, speed):\n",
    "        self.__speed = 0 if speed < 0 else speed\n",
    "        \n",
    "    def get_speed(self):\n",
    "        return self.__speed"
   ]
  },
  {
   "cell_type": "code",
   "execution_count": 10,
   "id": "fc40223d-d0c0-4192-b5eb-73898942c6c3",
   "metadata": {},
   "outputs": [],
   "source": [
    "car = Car(2021, \"Mahindra\", \"XUV500\", 120) #car is the object of the class Car"
   ]
  },
  {
   "cell_type": "code",
   "execution_count": 11,
   "id": "e7f6f909-16dc-4e14-985f-b91efff797a7",
   "metadata": {},
   "outputs": [
    {
     "data": {
      "text/plain": [
       "120"
      ]
     },
     "execution_count": 11,
     "metadata": {},
     "output_type": "execute_result"
    }
   ],
   "source": [
    "car.get_speed()"
   ]
  },
  {
   "cell_type": "code",
   "execution_count": 12,
   "id": "3e441227-7994-4b63-a792-53d48cb8e72c",
   "metadata": {},
   "outputs": [],
   "source": [
    "car.set_speed(90)"
   ]
  },
  {
   "cell_type": "code",
   "execution_count": 13,
   "id": "1881a989-2386-45f5-8858-e7428489a16f",
   "metadata": {},
   "outputs": [
    {
     "data": {
      "text/plain": [
       "90"
      ]
     },
     "execution_count": 13,
     "metadata": {},
     "output_type": "execute_result"
    }
   ],
   "source": [
    "car.get_speed()"
   ]
  },
  {
   "cell_type": "code",
   "execution_count": 15,
   "id": "07a04023-6bf7-4300-8c46-e9d5323df844",
   "metadata": {},
   "outputs": [],
   "source": [
    "'''Q2. Name the four pillars of OOPs.'''\n",
    "\n",
    "# The four pillars of object-oriented programming are:\n",
    "\n",
    "\"\"\"1. Abstraction: The process of showing only essential or necessary features of an entity/object \n",
    "to the user and hiding the other irrelevant information.\"\"\"\n",
    "\n",
    "#Example \n",
    "\n",
    "import abc\n",
    "class Vehicle:\n",
    "    @abc.abstractmethod\n",
    "    def start(self):\n",
    "        pass\n",
    "    @abc.abstractmethod\n",
    "    def stop(self):\n",
    "        pass\n",
    "    \n",
    "class Car(Vehicle):\n",
    "    def start(self):\n",
    "        return \"Car Started\"\n",
    "    def stop(self):\n",
    "        return \"Car Stoped\"\n",
    "    \n",
    "class Bike(Vehicle):\n",
    "    def start(self):\n",
    "        return \"Bike Started\"\n",
    "    def stop(self):\n",
    "        return \"Bike Stoped\"\n",
    "    \n",
    "car = Car()\n",
    "bike = Bike()"
   ]
  },
  {
   "cell_type": "code",
   "execution_count": 16,
   "id": "650a2a08-e680-4868-b2e2-1e4221c69f46",
   "metadata": {},
   "outputs": [
    {
     "data": {
      "text/plain": [
       "'Car Started'"
      ]
     },
     "execution_count": 16,
     "metadata": {},
     "output_type": "execute_result"
    }
   ],
   "source": [
    "car.start()"
   ]
  },
  {
   "cell_type": "code",
   "execution_count": 17,
   "id": "16253ae0-f925-440c-a342-ea035aeb18bf",
   "metadata": {},
   "outputs": [
    {
     "data": {
      "text/plain": [
       "'Bike Started'"
      ]
     },
     "execution_count": 17,
     "metadata": {},
     "output_type": "execute_result"
    }
   ],
   "source": [
    "bike.start()"
   ]
  },
  {
   "cell_type": "code",
   "execution_count": 18,
   "id": "f71d6e8e-1d91-480d-be4d-b1bc820b31d4",
   "metadata": {},
   "outputs": [
    {
     "data": {
      "text/plain": [
       "'Car Stoped'"
      ]
     },
     "execution_count": 18,
     "metadata": {},
     "output_type": "execute_result"
    }
   ],
   "source": [
    "car.stop()"
   ]
  },
  {
   "cell_type": "code",
   "execution_count": 19,
   "id": "c1950a4b-ef30-4e8f-aa32-e5f92475248b",
   "metadata": {},
   "outputs": [
    {
     "data": {
      "text/plain": [
       "'Bike Stoped'"
      ]
     },
     "execution_count": 19,
     "metadata": {},
     "output_type": "execute_result"
    }
   ],
   "source": [
    "bike.stop()"
   ]
  },
  {
   "cell_type": "code",
   "execution_count": 23,
   "id": "a515241d-fba2-4a0d-91db-aff8f1f0e48b",
   "metadata": {},
   "outputs": [],
   "source": [
    "\"\"\"2. Encapsulation: The process of wrapping data and methods into a single unit (called class) and \n",
    "restricting access to them from outside the class.\"\"\"\n",
    "\n",
    "#Example\n",
    "\n",
    "class BankAccount:\n",
    "    \n",
    "    def __init__(self, account_number, balance, pin):\n",
    "        self.__account_number = account_number\n",
    "        self.__balance = balance\n",
    "        self.__pin = pin\n",
    "        \n",
    "    def deposit(self, amount):\n",
    "        self.__balance += amount\n",
    "        \n",
    "    def withdraw(self, amount, pin):\n",
    "        if self.__pin == pin and self.__balance >= amount:\n",
    "            self.__balance -= amount\n",
    "            return \"Withdrawal Successful\"\n",
    "        elif self.__pin == pin and self.__balance < amount:\n",
    "            return \"Insufficient Balance\"\n",
    "        else:\n",
    "            return \"Incorrect Pin\"\n",
    "        \n",
    "    def get_balance(self, pin):\n",
    "        if self.__pin == pin:\n",
    "            return self.__balance\n",
    "        else:\n",
    "            return \"Incorrect Pin\"\n",
    "    \n",
    "    def set_pin(self, new_pin):\n",
    "        if self.__pin == new_pin:\n",
    "            return \"pin you have entered is already in use\"\n",
    "        else:\n",
    "            self.__pin = new_pin\n",
    "            return \"New Pin set successfully\""
   ]
  },
  {
   "cell_type": "code",
   "execution_count": 25,
   "id": "419e3bcf-0bb0-462e-baa8-43911fafe425",
   "metadata": {},
   "outputs": [],
   "source": [
    "ayush = BankAccount(9875641502, 10000, 1593)"
   ]
  },
  {
   "cell_type": "code",
   "execution_count": 27,
   "id": "07ff11ea-a2ae-4b79-9aad-3f5185fc28a2",
   "metadata": {},
   "outputs": [],
   "source": [
    "ayush.deposit(5000)"
   ]
  },
  {
   "cell_type": "code",
   "execution_count": 29,
   "id": "fc5c493c-0431-465a-b7b3-99040150b573",
   "metadata": {},
   "outputs": [
    {
     "data": {
      "text/plain": [
       "15000"
      ]
     },
     "execution_count": 29,
     "metadata": {},
     "output_type": "execute_result"
    }
   ],
   "source": [
    "ayush.get_balance(1593)"
   ]
  },
  {
   "cell_type": "code",
   "execution_count": 30,
   "id": "7c7329eb-cf23-4bc3-994d-97e97788441b",
   "metadata": {},
   "outputs": [
    {
     "data": {
      "text/plain": [
       "'Withdrawal Successful'"
      ]
     },
     "execution_count": 30,
     "metadata": {},
     "output_type": "execute_result"
    }
   ],
   "source": [
    "ayush.withdraw(3000, 1593)"
   ]
  },
  {
   "cell_type": "code",
   "execution_count": 32,
   "id": "695a49b0-91a2-4df2-93ba-60c2a17286f7",
   "metadata": {},
   "outputs": [
    {
     "data": {
      "text/plain": [
       "'New Pin set successfully'"
      ]
     },
     "execution_count": 32,
     "metadata": {},
     "output_type": "execute_result"
    }
   ],
   "source": [
    "ayush.set_pin(1585)"
   ]
  },
  {
   "cell_type": "code",
   "execution_count": 33,
   "id": "bfd364b1-53fd-430c-998f-7d4599366f57",
   "metadata": {},
   "outputs": [
    {
     "data": {
      "text/plain": [
       "12000"
      ]
     },
     "execution_count": 33,
     "metadata": {},
     "output_type": "execute_result"
    }
   ],
   "source": [
    "ayush.get_balance(1585)"
   ]
  },
  {
   "cell_type": "code",
   "execution_count": 34,
   "id": "9647acf7-c0d5-497a-8bdc-28806d3098e5",
   "metadata": {},
   "outputs": [],
   "source": [
    "\"\"\"3. Inheritance: The process of creating a new class from an existing class and \n",
    "inheriting all its properties and methods.\"\"\"\n",
    "\n",
    "#Example\n",
    "\n",
    "class Rectangle:\n",
    "    def __init__(self, a,b,color):\n",
    "        self.a = a\n",
    "        self.b = b\n",
    "        self.color = color\n",
    "    def area(self):\n",
    "        area = self.a * self.b\n",
    "        print(\"Area of rectangle is\", area)\n",
    "    def perimeter(self):\n",
    "        perimeter = 2*(self.a+self.b)\n",
    "        print(\"Perimeter of rectangle is\", perimeter)\n",
    "    \n",
    "class Color:\n",
    "    def set_color(self):\n",
    "        print(\"Color of rectangle set to\", self.color)\n",
    "    \n",
    "class ColoredRectangle (Color, Rectangle):\n",
    "    pass\n",
    "\n",
    "obj = ColoredRectangle (5,6,\"Red\")"
   ]
  },
  {
   "cell_type": "code",
   "execution_count": 35,
   "id": "c09c13d1-77b8-4370-af2a-5327dfab895d",
   "metadata": {},
   "outputs": [
    {
     "name": "stdout",
     "output_type": "stream",
     "text": [
      "Perimeter of rectangle is 22\n"
     ]
    }
   ],
   "source": [
    "obj.perimeter()"
   ]
  },
  {
   "cell_type": "code",
   "execution_count": 36,
   "id": "9b964fd2-d64f-4d94-8c43-7b2f142ebd6a",
   "metadata": {},
   "outputs": [
    {
     "name": "stdout",
     "output_type": "stream",
     "text": [
      "Color of rectangle set to Red\n"
     ]
    }
   ],
   "source": [
    "obj.set_color()"
   ]
  },
  {
   "cell_type": "code",
   "execution_count": 37,
   "id": "118fdb01-bcee-4cb4-8317-c236f7afa629",
   "metadata": {},
   "outputs": [
    {
     "name": "stdout",
     "output_type": "stream",
     "text": [
      "Area of rectangle is 30\n"
     ]
    }
   ],
   "source": [
    "obj.area()"
   ]
  },
  {
   "cell_type": "code",
   "execution_count": 42,
   "id": "5c1c98fa-363e-4345-85c1-fef233b1fc1d",
   "metadata": {},
   "outputs": [],
   "source": [
    "\"\"\"4. Polymorphism: The ability of an object to take on many forms or have many behaviors.\"\"\"\n",
    "\n",
    "#Example\n",
    "    \n",
    "class data_science:\n",
    "    def syllabus(self):\n",
    "        print(\"This is the syllabus of data science\")\n",
    "\n",
    "class web_dev:\n",
    "    def syllabus(self):\n",
    "        print(\"This is the syllabus of web dev\")"
   ]
  },
  {
   "cell_type": "code",
   "execution_count": 43,
   "id": "20e23b64-4feb-413a-830d-3993cb64b3cf",
   "metadata": {},
   "outputs": [],
   "source": [
    "data_science = data_science()"
   ]
  },
  {
   "cell_type": "code",
   "execution_count": 44,
   "id": "1ac35f73-5ecf-4442-a0ac-50149babd1e0",
   "metadata": {},
   "outputs": [],
   "source": [
    "web_dev = web_dev()"
   ]
  },
  {
   "cell_type": "code",
   "execution_count": 47,
   "id": "25363a1c-040a-4236-9858-d0801214a4df",
   "metadata": {},
   "outputs": [
    {
     "name": "stdout",
     "output_type": "stream",
     "text": [
      "This is the syllabus of data science\n",
      "This is the syllabus of web dev\n"
     ]
    }
   ],
   "source": [
    "data_science.syllabus()\n",
    "web_dev.syllabus()"
   ]
  },
  {
   "cell_type": "code",
   "execution_count": 50,
   "id": "efd52513-1159-491a-830f-bcf3de8fe718",
   "metadata": {},
   "outputs": [
    {
     "name": "stdout",
     "output_type": "stream",
     "text": [
      "Name of a Person is Ayush\n",
      "Age of a Person is 20\n"
     ]
    }
   ],
   "source": [
    "'''Q3. Explain why the __init__() function is used. Give a suitable example.'''\n",
    "\n",
    "\"\"\"The __init__() function is used as a constructor method for a class. \n",
    "It is called when an object of the class is created. \n",
    "The purpose of the __init__() method is to initialize the attributes of the object.\"\"\"\n",
    "\n",
    "#Example\n",
    "\n",
    "class Person:\n",
    "    def __init__(self, name, age):\n",
    "        self.name = name\n",
    "        self.age = age\n",
    "\n",
    "person1 = Person(\"Ayush\", 20)\n",
    "print(\"Name of a Person is\", person1.name)\n",
    "print(\"Age of a Person is\", person1.age)"
   ]
  },
  {
   "cell_type": "code",
   "execution_count": 51,
   "id": "582446fa-d09c-475c-8d78-ad7741efd34f",
   "metadata": {},
   "outputs": [],
   "source": [
    "'''Q4. Why self is used in OOPs?'''\n",
    "\n",
    "\"\"\"In object-oriented programming, self is used to refer to the instance of the class. \n",
    "It is a reference to the object that is being created. \n",
    "When you create an object of a class, you are creating an instance of that class. \n",
    "The self parameter is used to refer to that instance.\"\"\"\n",
    "\n",
    "#Example\n",
    "\n",
    "class Person:\n",
    "    def __init__(self, name, age):\n",
    "        self.name = name\n",
    "        self.age = age\n",
    "        \n",
    "    def hello(self):\n",
    "        print(\"Hello my name is\", self.name, \"and my age is\", self.age)"
   ]
  },
  {
   "cell_type": "code",
   "execution_count": 52,
   "id": "6f162172-4c6d-4261-a8df-f4e92ac8add2",
   "metadata": {},
   "outputs": [
    {
     "name": "stdout",
     "output_type": "stream",
     "text": [
      "Hello my name is Ayush and my age is 20\n"
     ]
    }
   ],
   "source": [
    "a = Person(\"Ayush\", 20)\n",
    "a.hello()"
   ]
  },
  {
   "cell_type": "code",
   "execution_count": 62,
   "id": "f99aed6a-d687-4f79-8184-540c63561ecd",
   "metadata": {},
   "outputs": [
    {
     "data": {
      "text/plain": [
       "'Animal makes sound'"
      ]
     },
     "execution_count": 62,
     "metadata": {},
     "output_type": "execute_result"
    }
   ],
   "source": [
    "'''Q5. What is inheritance? Give an example for each type of inheritance.'''\n",
    "\n",
    "\"\"\"Inheritance: The process of creating a new class from an existing class and \n",
    "inheriting all its properties and methods.\"\"\"\n",
    "\n",
    "#Single Inheritance \n",
    "\n",
    "class Animal:\n",
    "    def sound(self):\n",
    "        return \"Animal makes sound\"\n",
    "    \n",
    "class Dog(Animal):\n",
    "    def sound(self):\n",
    "        return \"Dogs Barks\"\n",
    "\n",
    "animal_sound = Animal()\n",
    "animal_sound1 = Dog()\n",
    "animal_sound.sound()"
   ]
  },
  {
   "cell_type": "code",
   "execution_count": 63,
   "id": "d90db167-bc03-4d46-a0e8-6efdc5d00da3",
   "metadata": {},
   "outputs": [
    {
     "data": {
      "text/plain": [
       "'Dogs Barks'"
      ]
     },
     "execution_count": 63,
     "metadata": {},
     "output_type": "execute_result"
    }
   ],
   "source": [
    "animal_sound1.sound()"
   ]
  },
  {
   "cell_type": "code",
   "execution_count": 55,
   "id": "df5f3ecb-082c-445d-bf9c-074aed4653fa",
   "metadata": {},
   "outputs": [
    {
     "name": "stdout",
     "output_type": "stream",
     "text": [
      "Area of rectangle is 30\n",
      "Perimeter of rectangle is 22\n",
      "Color of rectangle set to Red\n"
     ]
    }
   ],
   "source": [
    "#Multiple Inheritance\n",
    "\n",
    "class Rectangle:\n",
    "    def __init__(self, a,b,color):\n",
    "        self.a = a\n",
    "        self.b = b\n",
    "        self.color = color\n",
    "    def area(self):\n",
    "        area = self.a * self.b\n",
    "        print(\"Area of rectangle is\", area)\n",
    "    def perimeter(self):\n",
    "        perimeter = 2*(self.a+self.b)\n",
    "        print(\"Perimeter of rectangle is\", perimeter)\n",
    "    \n",
    "class Color:\n",
    "    def set_color(self):\n",
    "        print(\"Color of rectangle set to\", self.color)\n",
    "    \n",
    "class ColoredRectangle (Color, Rectangle):\n",
    "    pass\n",
    "\n",
    "obj = ColoredRectangle (5,6,\"Red\")\n",
    "obj.area()\n",
    "obj.perimeter()\n",
    "obj.set_color()"
   ]
  },
  {
   "cell_type": "code",
   "execution_count": 60,
   "id": "cb6c7820-f5e3-4d3f-8299-892b38f71f15",
   "metadata": {},
   "outputs": [
    {
     "data": {
      "text/plain": [
       "'I am a Person'"
      ]
     },
     "execution_count": 60,
     "metadata": {},
     "output_type": "execute_result"
    }
   ],
   "source": [
    "#Multilevel Inheritance\n",
    "\n",
    "class Person:\n",
    "    def speak(self):\n",
    "        return \"I am a Person\"\n",
    "    \n",
    "class Student(Person):\n",
    "    def speak(self):\n",
    "        return \"I am a Student\"\n",
    "    \n",
    "class GraduateStudent(Student):\n",
    "    def speak(self):\n",
    "        return \"I am a Graduate Student\"\n",
    "\n",
    "obj = Person()\n",
    "obj1 = Student()\n",
    "obj2 = GraduateStudent()\n",
    "obj.speak()"
   ]
  },
  {
   "cell_type": "code",
   "execution_count": 61,
   "id": "11433e94-c7e0-4c78-ab62-48ccfea65ac9",
   "metadata": {},
   "outputs": [
    {
     "data": {
      "text/plain": [
       "'I am a Student'"
      ]
     },
     "execution_count": 61,
     "metadata": {},
     "output_type": "execute_result"
    }
   ],
   "source": [
    "obj1.speak()"
   ]
  },
  {
   "cell_type": "code",
   "execution_count": 58,
   "id": "6ee53e41-301e-43e9-8d0c-5de6fe5b9b4e",
   "metadata": {},
   "outputs": [
    {
     "data": {
      "text/plain": [
       "'I am a Graduate Student'"
      ]
     },
     "execution_count": 58,
     "metadata": {},
     "output_type": "execute_result"
    }
   ],
   "source": [
    "obj2.speak()"
   ]
  },
  {
   "cell_type": "code",
   "execution_count": 65,
   "id": "fba26711-9baa-44f1-b43f-e299a530d0ef",
   "metadata": {},
   "outputs": [
    {
     "data": {
      "text/plain": [
       "'Drawing shape'"
      ]
     },
     "execution_count": 65,
     "metadata": {},
     "output_type": "execute_result"
    }
   ],
   "source": [
    "#Hierarchical Inheritance\n",
    "\n",
    "class Shape:\n",
    "    def draw(self):\n",
    "        return \"Drawing shape\"\n",
    "    \n",
    "class Circle(Shape):\n",
    "    def draw(self):\n",
    "        return \"Drawing circle\"\n",
    "    \n",
    "class Square(Shape):\n",
    "    def draw(self):\n",
    "        return \"Drawing square\"\n",
    "    \n",
    "obj = Shape()\n",
    "obj1 = Circle()\n",
    "obj2 = Square()\n",
    "obj.draw()"
   ]
  },
  {
   "cell_type": "code",
   "execution_count": 66,
   "id": "e51a956d-1b82-46ee-b715-a1e1a7d319af",
   "metadata": {},
   "outputs": [
    {
     "data": {
      "text/plain": [
       "'Drawing circle'"
      ]
     },
     "execution_count": 66,
     "metadata": {},
     "output_type": "execute_result"
    }
   ],
   "source": [
    "obj1.draw()"
   ]
  },
  {
   "cell_type": "code",
   "execution_count": 67,
   "id": "5c77433b-147d-4c70-8ee4-c89cc4fc6e63",
   "metadata": {},
   "outputs": [
    {
     "data": {
      "text/plain": [
       "'Drawing square'"
      ]
     },
     "execution_count": 67,
     "metadata": {},
     "output_type": "execute_result"
    }
   ],
   "source": [
    "obj2.draw()"
   ]
  },
  {
   "cell_type": "code",
   "execution_count": 69,
   "id": "c848253e-cfd1-4c9d-93a4-137449012091",
   "metadata": {},
   "outputs": [
    {
     "data": {
      "text/plain": [
       "'Cat meows'"
      ]
     },
     "execution_count": 69,
     "metadata": {},
     "output_type": "execute_result"
    }
   ],
   "source": [
    "#Hybrid Inheritance\n",
    "\n",
    "class Animal:\n",
    "    def sound(self):\n",
    "        return \"Animal is make sound\"\n",
    "    \n",
    "class Dog(Animal):\n",
    "    def sound(self):\n",
    "        return \"Dog barks\"\n",
    "    \n",
    "class Cat(Animal):\n",
    "    def sound(self):\n",
    "        return \"Cat meows\"\n",
    "    \n",
    "class DogCat(Cat, Dog):\n",
    "    pass\n",
    "\n",
    "obj = DogCat()\n",
    "obj.sound()"
   ]
  },
  {
   "cell_type": "code",
   "execution_count": null,
   "id": "b8ee401e-2e79-4308-b547-9e69ec9d485b",
   "metadata": {},
   "outputs": [],
   "source": []
  }
 ],
 "metadata": {
  "kernelspec": {
   "display_name": "Python 3 (ipykernel)",
   "language": "python",
   "name": "python3"
  },
  "language_info": {
   "codemirror_mode": {
    "name": "ipython",
    "version": 3
   },
   "file_extension": ".py",
   "mimetype": "text/x-python",
   "name": "python",
   "nbconvert_exporter": "python",
   "pygments_lexer": "ipython3",
   "version": "3.10.8"
  }
 },
 "nbformat": 4,
 "nbformat_minor": 5
}
