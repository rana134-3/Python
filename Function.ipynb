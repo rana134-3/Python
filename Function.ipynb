{
 "cells": [
  {
   "cell_type": "code",
   "execution_count": 2,
   "id": "4863b6ce-531f-455f-a8aa-27c55212ad5a",
   "metadata": {},
   "outputs": [],
   "source": [
    "def test():\n",
    "    print(\"Created my first function\")"
   ]
  },
  {
   "cell_type": "code",
   "execution_count": 4,
   "id": "98eafe3e-312c-46ba-ac3d-afc9e99264f2",
   "metadata": {},
   "outputs": [
    {
     "name": "stdout",
     "output_type": "stream",
     "text": [
      "Created my first function\n"
     ]
    }
   ],
   "source": [
    "test()"
   ]
  },
  {
   "cell_type": "code",
   "execution_count": 6,
   "id": "d86347c4-7024-4e04-bd33-32615124aa92",
   "metadata": {},
   "outputs": [],
   "source": [
    "def test1():\n",
    "    return \"Created my first function\""
   ]
  },
  {
   "cell_type": "code",
   "execution_count": 9,
   "id": "ce899cb2-aec4-452d-8018-c6a52356c944",
   "metadata": {},
   "outputs": [
    {
     "data": {
      "text/plain": [
       "'Created my first function in python'"
      ]
     },
     "execution_count": 9,
     "metadata": {},
     "output_type": "execute_result"
    }
   ],
   "source": [
    "test1() + \" in python\""
   ]
  },
  {
   "cell_type": "code",
   "execution_count": 19,
   "id": "ecda3659-8c0c-4e5c-8b68-7eb6e8bd37ef",
   "metadata": {},
   "outputs": [],
   "source": [
    "def test2():\n",
    "    return \"Hello World\", 23, 85.6, True , 5+8j, \"Python\""
   ]
  },
  {
   "cell_type": "code",
   "execution_count": 21,
   "id": "90995832-ba6c-4912-847e-eb1303cc4126",
   "metadata": {},
   "outputs": [],
   "source": [
    "a= test2()"
   ]
  },
  {
   "cell_type": "code",
   "execution_count": 22,
   "id": "196cf363-5418-4711-b79c-f2e4879ee796",
   "metadata": {},
   "outputs": [
    {
     "data": {
      "text/plain": [
       "('Hello World', 23, 85.6, True, (5+8j), 'Python')"
      ]
     },
     "execution_count": 22,
     "metadata": {},
     "output_type": "execute_result"
    }
   ],
   "source": [
    "a"
   ]
  },
  {
   "cell_type": "code",
   "execution_count": 23,
   "id": "32619e7d-fdc9-49fb-83db-9e5a775284b2",
   "metadata": {},
   "outputs": [
    {
     "data": {
      "text/plain": [
       "('Python', (5+8j), True, 85.6, 23, 'Hello World')"
      ]
     },
     "execution_count": 23,
     "metadata": {},
     "output_type": "execute_result"
    }
   ],
   "source": [
    "a[::-1]"
   ]
  },
  {
   "cell_type": "code",
   "execution_count": 28,
   "id": "f6aac24f-2191-4467-8972-be9b568ee23d",
   "metadata": {},
   "outputs": [
    {
     "data": {
      "text/plain": [
       "'thon'"
      ]
     },
     "execution_count": 28,
     "metadata": {},
     "output_type": "execute_result"
    }
   ],
   "source": [
    "a[-1][2:6]"
   ]
  },
  {
   "cell_type": "code",
   "execution_count": 36,
   "id": "1be091a5-c3e8-4d71-9f8c-a1e88e3ceaa3",
   "metadata": {},
   "outputs": [],
   "source": [
    "a,b,c,d,e,f= test2()"
   ]
  },
  {
   "cell_type": "code",
   "execution_count": 40,
   "id": "e9ec21e1-a44d-4d9d-ab1e-c11e333a026b",
   "metadata": {},
   "outputs": [
    {
     "name": "stdout",
     "output_type": "stream",
     "text": [
      "Hello World 23 85.6 True (5+8j) Python\n"
     ]
    }
   ],
   "source": [
    "print(a, b, c, d, e, f)"
   ]
  },
  {
   "cell_type": "code",
   "execution_count": 99,
   "id": "43ba38ff-2f54-4c0c-83ca-448c3a556126",
   "metadata": {},
   "outputs": [],
   "source": [
    "def test3(a,b,c):\n",
    "    '''Check if triangle is right angle or not'''\n",
    "    if (c*c) == (a*a) + (b*b):\n",
    "        return \"This is right angle triangle\"\n",
    "    else:\n",
    "        return \"This is not a right angle triangle\""
   ]
  },
  {
   "cell_type": "code",
   "execution_count": 44,
   "id": "d86cb09a-39e4-4611-96a3-be5d6bfaeed6",
   "metadata": {},
   "outputs": [
    {
     "data": {
      "text/plain": [
       "'This is right angle triangle'"
      ]
     },
     "execution_count": 44,
     "metadata": {},
     "output_type": "execute_result"
    }
   ],
   "source": [
    "test3(5,12,13)"
   ]
  },
  {
   "cell_type": "code",
   "execution_count": 45,
   "id": "aa202669-914d-4186-8e28-1f234cebc053",
   "metadata": {},
   "outputs": [
    {
     "data": {
      "text/plain": [
       "'This is not a right angle triangle'"
      ]
     },
     "execution_count": 45,
     "metadata": {},
     "output_type": "execute_result"
    }
   ],
   "source": [
    "test3(8,6,20)"
   ]
  },
  {
   "cell_type": "code",
   "execution_count": 98,
   "id": "0d34e0ce-6295-4283-aff0-928891bebf52",
   "metadata": {},
   "outputs": [],
   "source": [
    "def test4(l):\n",
    "    '''Extract num data from the list'''\n",
    "    l1= []\n",
    "    for i in l:\n",
    "        if type(i) == int or type(i) == float:\n",
    "            l1.append(i)\n",
    "    return l1"
   ]
  },
  {
   "cell_type": "code",
   "execution_count": 63,
   "id": "d0850d68-9315-48e1-b3ca-6a92bed6cdf9",
   "metadata": {},
   "outputs": [
    {
     "data": {
      "text/plain": [
       "[0, 1, 2, 3, 4, 85.6]"
      ]
     },
     "execution_count": 63,
     "metadata": {},
     "output_type": "execute_result"
    }
   ],
   "source": [
    "test4([0,1,2,3,\"Hello\",4,'Python',85.6,[89,20,44,63.4,]])"
   ]
  },
  {
   "cell_type": "code",
   "execution_count": 97,
   "id": "fdddd930-6501-4e86-ab27-4529d66db6bd",
   "metadata": {},
   "outputs": [],
   "source": [
    "def test5(l):\n",
    "    '''Extract num data from the list and also from the list/tuple/set which are present inside main list '''\n",
    "    l1=[]\n",
    "    for i in l:\n",
    "        if type(i) == list or type(i) == tuple or type(i) == set:\n",
    "            for j in i:\n",
    "                if type(j) == int or type(j) == float:\n",
    "                    l1.append(j)\n",
    "        else:\n",
    "            if type(i) == int or type(i) == float:\n",
    "                l1.append(i)\n",
    "    return l1      "
   ]
  },
  {
   "cell_type": "code",
   "execution_count": null,
   "id": "666658ae-8a0e-4850-964a-ca069e3f2ade",
   "metadata": {},
   "outputs": [
    {
     "data": {
      "text/plain": [
       "[3, 850.54, 1, 23, 4, 8.24, 74, 0, 66]"
      ]
     },
     "execution_count": 120,
     "metadata": {},
     "output_type": "execute_result"
    }
   ],
   "source": [
    "test5((3,\"Hello\", 850.54,(1,23,4),['Rage', 8.24,74],\"World\", {0, 66, 8+5j, True}))"
   ]
  },
  {
   "cell_type": "code",
   "execution_count": 114,
   "id": "0691fc4f-d85c-41a9-8332-8812bba6881a",
   "metadata": {},
   "outputs": [
    {
     "name": "stdout",
     "output_type": "stream",
     "text": [
      "[3, 850.54]\n"
     ]
    }
   ],
   "source": [
    "s = (3, \"Hello\", 850.54, (1, 23, 4), ['Rage', 8.24, 74], \"World\", {0, 66, 8+5j, True})\n",
    "s1=[]\n",
    "for i in s:\n",
    "    if type(i) == int or type(i) == float:\n",
    "        s1.append(i)\n",
    "print(s1)\n"
   ]
  },
  {
   "cell_type": "code",
   "execution_count": 115,
   "id": "3682037b-fc06-4e7c-94aa-e84f20d44253",
   "metadata": {},
   "outputs": [
    {
     "data": {
      "text/plain": [
       "(1, 806, 'Hello', True)"
      ]
     },
     "execution_count": 115,
     "metadata": {},
     "output_type": "execute_result"
    }
   ],
   "source": [
    "def test6(*args):\n",
    "    return args\n",
    "\n",
    "test6(1,806,\"Hello\", True)"
   ]
  },
  {
   "cell_type": "code",
   "execution_count": 116,
   "id": "f7f86b0a-cb0e-4ea6-afcf-cfae939db9d5",
   "metadata": {},
   "outputs": [
    {
     "data": {
      "text/plain": [
       "(5, 6, 9, 2)"
      ]
     },
     "execution_count": 116,
     "metadata": {},
     "output_type": "execute_result"
    }
   ],
   "source": [
    "def test7(c,d,a=5, b=6):\n",
    "    return a,b,c,d\n",
    "\n",
    "test7(9,2)"
   ]
  },
  {
   "cell_type": "code",
   "execution_count": 119,
   "id": "0924999c-9726-4399-9271-67e00feaae4c",
   "metadata": {},
   "outputs": [
    {
     "data": {
      "text/plain": [
       "(0, 6, 7, 8)"
      ]
     },
     "execution_count": 119,
     "metadata": {},
     "output_type": "execute_result"
    }
   ],
   "source": [
    "test7(7,8,a=0)"
   ]
  },
  {
   "cell_type": "code",
   "execution_count": 129,
   "id": "aedc8eb3-00ab-4c21-9034-0bc3fa894655",
   "metadata": {},
   "outputs": [
    {
     "data": {
      "text/plain": [
       "{'name': ['Ayush', 'Rage', 'Amit', 'Ayan'],\n",
       " 'city': ['Kanpur', 'Mumbai', 'Jaipur', 'Chandigarh'],\n",
       " 'gender': ['male', 'male', 'male', 'male']}"
      ]
     },
     "execution_count": 129,
     "metadata": {},
     "output_type": "execute_result"
    }
   ],
   "source": [
    "def test8(**kargs):\n",
    "    return kargs\n",
    "\n",
    "test8(name = [\"Ayush\",\"Rage\",\"Amit\",\"Ayan\"], city= [\"Kanpur\",\"Mumbai\",\"Jaipur\",\"Chandigarh\"], gender=[\"male\",\"male\",\"male\",\"male\"])\n"
   ]
  }
 ],
 "metadata": {
  "kernelspec": {
   "display_name": "Python 3 (ipykernel)",
   "language": "python",
   "name": "python3"
  },
  "language_info": {
   "codemirror_mode": {
    "name": "ipython",
    "version": 3
   },
   "file_extension": ".py",
   "mimetype": "text/x-python",
   "name": "python",
   "nbconvert_exporter": "python",
   "pygments_lexer": "ipython3",
   "version": "3.10.8"
  }
 },
 "nbformat": 4,
 "nbformat_minor": 5
}
